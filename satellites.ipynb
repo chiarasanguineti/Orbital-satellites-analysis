{
  "nbformat": 4,
  "nbformat_minor": 0,
  "metadata": {
    "colab": {
      "provenance": [],
      "collapsed_sections": [
        "CjIN52mY2UId",
        "V8giQTUc2pcO",
        "x9GYlIe51isB",
        "t4zxK6bj5uXg",
        "wY8htmDj5p8n",
        "OKMtuKVcX03g",
        "I4o6hHbXcXrC"
      ],
      "authorship_tag": "ABX9TyOsUpynA6iQ85pddrB4bhYV",
      "include_colab_link": true
    },
    "kernelspec": {
      "name": "python3",
      "display_name": "Python 3"
    },
    "language_info": {
      "name": "python"
    }
  },
  "cells": [
    {
      "cell_type": "markdown",
      "metadata": {
        "id": "view-in-github",
        "colab_type": "text"
      },
      "source": [
        "<a href=\"https://colab.research.google.com/github/chiarasanguineti/Orbital-satellites-analysis/blob/main/satellites.ipynb\" target=\"_parent\"><img src=\"https://colab.research.google.com/assets/colab-badge.svg\" alt=\"Open In Colab\"/></a>"
      ]
    },
    {
      "cell_type": "markdown",
      "source": [
        "# **Analisi dei satelliti orbitali**"
      ],
      "metadata": {
        "id": "bgTFEggK1PRW"
      }
    },
    {
      "cell_type": "markdown",
      "source": [
        "### Introduzione  e obiettivi"
      ],
      "metadata": {
        "id": "CjIN52mY2UId"
      }
    },
    {
      "cell_type": "markdown",
      "source": [
        "**Obiettivo principale**\n",
        "L'obiettivo di questo progetto era analizzare i satelliti orbitali per comprendere le tendenze principali, tra cui il numero di satelliti lanciati ogni anno e la loro distribuzione per tipo di orbita. Ho utilizzato un dataset pubblico contenente informazioni su satelliti non classificati.\n",
        "\n",
        "Dopo aver definito l'obiettivo, ho seguito i seguenti passaggi principali:\n",
        "\n",
        "1. *Esplorazione e Pulizia dei Dati*\n",
        "\n",
        "Ho esaminato il dataset per verificare la presenza di valori nulli, duplicati o anomalie. Successivamente, ho eliminato colonne non necessarie e ho creato nuove colonne utili per l'analisi, come l'anno di lancio dei satelliti.\n",
        "\n",
        "2. *Analisi Esplorativa dei Dati (EDA)*\n",
        "\n",
        "Ho eseguito un'analisi esplorativa per individuare le principali tendenze nei dati. Questo ha incluso:\n",
        "\n",
        "  - Il numero di satelliti lanciati ogni anno.\n",
        "  - La distribuzione dei satelliti per tipo di orbita (LEO, MEO, GEO, Altro).\n",
        "  - La classificazione dei satelliti come \"classificati\" o \"non classificati\".\n",
        "3. *Visualizzazioni*\n",
        "\n",
        "Ho creato diversi grafici per rappresentare visivamente i risultati, tra cui:\n",
        "\n",
        "  - Grafico del numero di satelliti lanciati annualmente.\n",
        "  - Grafico della distribuzione dei satelliti per tipo di orbita."
      ],
      "metadata": {
        "id": "as0y0Y1o2ZJ6"
      }
    },
    {
      "cell_type": "markdown",
      "source": [
        "## Setup ambiente"
      ],
      "metadata": {
        "id": "V8giQTUc2pcO"
      }
    },
    {
      "cell_type": "code",
      "source": [
        "!pip install numpy pandas matplotlib plotly sgp4 requests"
      ],
      "metadata": {
        "colab": {
          "base_uri": "https://localhost:8080/"
        },
        "id": "eajPPPnm3CRr",
        "outputId": "5deb14e2-1cac-4956-e7b6-8c7246876f6d"
      },
      "execution_count": 137,
      "outputs": [
        {
          "output_type": "stream",
          "name": "stdout",
          "text": [
            "Requirement already satisfied: numpy in /usr/local/lib/python3.11/dist-packages (1.26.4)\n",
            "Requirement already satisfied: pandas in /usr/local/lib/python3.11/dist-packages (2.2.2)\n",
            "Requirement already satisfied: matplotlib in /usr/local/lib/python3.11/dist-packages (3.10.0)\n",
            "Requirement already satisfied: plotly in /usr/local/lib/python3.11/dist-packages (5.24.1)\n",
            "Requirement already satisfied: sgp4 in /usr/local/lib/python3.11/dist-packages (2.23)\n",
            "Requirement already satisfied: requests in /usr/local/lib/python3.11/dist-packages (2.32.3)\n",
            "Requirement already satisfied: python-dateutil>=2.8.2 in /usr/local/lib/python3.11/dist-packages (from pandas) (2.8.2)\n",
            "Requirement already satisfied: pytz>=2020.1 in /usr/local/lib/python3.11/dist-packages (from pandas) (2024.2)\n",
            "Requirement already satisfied: tzdata>=2022.7 in /usr/local/lib/python3.11/dist-packages (from pandas) (2025.1)\n",
            "Requirement already satisfied: contourpy>=1.0.1 in /usr/local/lib/python3.11/dist-packages (from matplotlib) (1.3.1)\n",
            "Requirement already satisfied: cycler>=0.10 in /usr/local/lib/python3.11/dist-packages (from matplotlib) (0.12.1)\n",
            "Requirement already satisfied: fonttools>=4.22.0 in /usr/local/lib/python3.11/dist-packages (from matplotlib) (4.55.7)\n",
            "Requirement already satisfied: kiwisolver>=1.3.1 in /usr/local/lib/python3.11/dist-packages (from matplotlib) (1.4.8)\n",
            "Requirement already satisfied: packaging>=20.0 in /usr/local/lib/python3.11/dist-packages (from matplotlib) (24.2)\n",
            "Requirement already satisfied: pillow>=8 in /usr/local/lib/python3.11/dist-packages (from matplotlib) (11.1.0)\n",
            "Requirement already satisfied: pyparsing>=2.3.1 in /usr/local/lib/python3.11/dist-packages (from matplotlib) (3.2.1)\n",
            "Requirement already satisfied: tenacity>=6.2.0 in /usr/local/lib/python3.11/dist-packages (from plotly) (9.0.0)\n",
            "Requirement already satisfied: charset-normalizer<4,>=2 in /usr/local/lib/python3.11/dist-packages (from requests) (3.4.1)\n",
            "Requirement already satisfied: idna<4,>=2.5 in /usr/local/lib/python3.11/dist-packages (from requests) (3.10)\n",
            "Requirement already satisfied: urllib3<3,>=1.21.1 in /usr/local/lib/python3.11/dist-packages (from requests) (2.3.0)\n",
            "Requirement already satisfied: certifi>=2017.4.17 in /usr/local/lib/python3.11/dist-packages (from requests) (2024.12.14)\n",
            "Requirement already satisfied: six>=1.5 in /usr/local/lib/python3.11/dist-packages (from python-dateutil>=2.8.2->pandas) (1.17.0)\n"
          ]
        }
      ]
    },
    {
      "cell_type": "code",
      "source": [
        "# importazione librerie\n",
        "import numpy as np\n",
        "import pandas as pd\n",
        "import matplotlib.pyplot as plt\n",
        "import plotly.express as px\n",
        "from sgp4.api import Satrec\n",
        "import requests\n",
        "from prophet import Prophet\n",
        "\n"
      ],
      "metadata": {
        "id": "AwEJhmnJ3G7F",
        "colab": {
          "base_uri": "https://localhost:8080/"
        },
        "outputId": "d4e38c26-9b81-4a79-9960-9c06eeb76fd1"
      },
      "execution_count": null,
      "outputs": [
        {
          "output_type": "stream",
          "name": "stderr",
          "text": [
            "ERROR:root:Internal Python error in the inspect module.\n",
            "Below is the traceback from this internal error.\n",
            "\n",
            "ERROR:root:Internal Python error in the inspect module.\n",
            "Below is the traceback from this internal error.\n",
            "\n",
            "ERROR:root:Internal Python error in the inspect module.\n",
            "Below is the traceback from this internal error.\n",
            "\n"
          ]
        },
        {
          "output_type": "stream",
          "name": "stdout",
          "text": [
            "Traceback (most recent call last):\n",
            "  File \"/usr/local/lib/python3.11/dist-packages/IPython/core/interactiveshell.py\", line 3553, in run_code\n",
            "    exec(code_obj, self.user_global_ns, self.user_ns)\n",
            "  File \"<ipython-input-3-04ba73a7da4b>\", line 8, in <cell line: 0>\n",
            "    from prophet import Prophet\n",
            "  File \"/usr/local/lib/python3.11/dist-packages/prophet/__init__.py\", line 7, in <module>\n",
            "    from prophet.forecaster import Prophet\n",
            "  File \"/usr/local/lib/python3.11/dist-packages/prophet/forecaster.py\", line 22, in <module>\n",
            "    from prophet.plot import (plot, plot_components)\n",
            "  File \"/usr/local/lib/python3.11/dist-packages/prophet/plot.py\", line 14, in <module>\n",
            "    from prophet.diagnostics import performance_metrics\n",
            "  File \"/usr/local/lib/python3.11/dist-packages/prophet/diagnostics.py\", line 10, in <module>\n",
            "    from tqdm.auto import tqdm\n",
            "  File \"/usr/local/lib/python3.11/dist-packages/tqdm/auto.py\", line 21, in <module>\n",
            "    from .autonotebook import tqdm as notebook_tqdm\n",
            "  File \"/usr/local/lib/python3.11/dist-packages/tqdm/autonotebook.py\", line 16, in <module>\n",
            "    from .notebook import WARN_NOIPYW, IProgress\n",
            "  File \"/usr/local/lib/python3.11/dist-packages/tqdm/notebook.py\", line 23, in <module>\n",
            "    import ipywidgets\n",
            "  File \"/usr/local/lib/python3.11/dist-packages/ipywidgets/__init__.py\", line 25, in <module>\n",
            "    from .widgets import *\n",
            "  File \"/usr/local/lib/python3.11/dist-packages/ipywidgets/widgets/__init__.py\", line 14, in <module>\n",
            "    from .widget_float import FloatText, BoundedFloatText, FloatSlider, FloatProgress, FloatRangeSlider, FloatLogSlider\n",
            "  File \"/usr/local/lib/python3.11/dist-packages/ipywidgets/widgets/widget_float.py\", line 17, in <module>\n",
            "    from .widget_int import ProgressStyle, SliderStyle\n",
            "  File \"/usr/local/lib/python3.11/dist-packages/ipywidgets/widgets/widget_int.py\", line 196, in <module>\n",
            "    class _IntRange(_Int):\n",
            "  File \"/usr/local/lib/python3.11/dist-packages/traitlets/traitlets.py\", line 972, in __init__\n",
            "    cls.setup_class(classdict)\n",
            "  File \"/usr/local/lib/python3.11/dist-packages/traitlets/traitlets.py\", line None, in setup_class\n",
            "KeyboardInterrupt\n",
            "\n",
            "During handling of the above exception, another exception occurred:\n",
            "\n",
            "Traceback (most recent call last):\n",
            "  File \"/usr/local/lib/python3.11/dist-packages/IPython/core/interactiveshell.py\", line 2099, in showtraceback\n",
            "    stb = value._render_traceback_()\n",
            "          ^^^^^^^^^^^^^^^^^^^^^^^^\n",
            "AttributeError: 'KeyboardInterrupt' object has no attribute '_render_traceback_'\n",
            "\n",
            "During handling of the above exception, another exception occurred:\n",
            "\n",
            "Traceback (most recent call last):\n",
            "  File \"/usr/local/lib/python3.11/dist-packages/IPython/core/ultratb.py\", line 1101, in get_records\n",
            "    return _fixed_getinnerframes(etb, number_of_lines_of_context, tb_offset)\n",
            "           ^^^^^^^^^^^^^^^^^^^^^^^^^^^^^^^^^^^^^^^^^^^^^^^^^^^^^^^^^^^^^^^^^\n",
            "  File \"/usr/local/lib/python3.11/dist-packages/IPython/core/ultratb.py\", line 248, in wrapped\n",
            "    return f(*args, **kwargs)\n",
            "           ^^^^^^^^^^^^^^^^^^\n",
            "  File \"/usr/local/lib/python3.11/dist-packages/IPython/core/ultratb.py\", line 281, in _fixed_getinnerframes\n",
            "    records = fix_frame_records_filenames(inspect.getinnerframes(etb, context))\n",
            "                                          ^^^^^^^^^^^^^^^^^^^^^^^^^^^^^^^^^^^^\n",
            "  File \"/usr/lib/python3.11/inspect.py\", line 1739, in getinnerframes\n",
            "    traceback_info = getframeinfo(tb, context)\n",
            "                     ^^^^^^^^^^^^^^^^^^^^^^^^^\n",
            "  File \"/usr/lib/python3.11/inspect.py\", line 1686, in getframeinfo\n",
            "    start = lineno - 1 - context//2\n",
            "            ~~~~~~~^~~\n",
            "TypeError: unsupported operand type(s) for -: 'NoneType' and 'int'\n",
            "Traceback (most recent call last):\n",
            "  File \"/usr/local/lib/python3.11/dist-packages/IPython/core/interactiveshell.py\", line 3553, in run_code\n",
            "    exec(code_obj, self.user_global_ns, self.user_ns)\n",
            "  File \"<ipython-input-3-04ba73a7da4b>\", line 8, in <cell line: 0>\n",
            "    from prophet import Prophet\n",
            "  File \"/usr/local/lib/python3.11/dist-packages/prophet/__init__.py\", line 7, in <module>\n",
            "    from prophet.forecaster import Prophet\n",
            "  File \"/usr/local/lib/python3.11/dist-packages/prophet/forecaster.py\", line 22, in <module>\n",
            "    from prophet.plot import (plot, plot_components)\n",
            "  File \"/usr/local/lib/python3.11/dist-packages/prophet/plot.py\", line 14, in <module>\n",
            "    from prophet.diagnostics import performance_metrics\n",
            "  File \"/usr/local/lib/python3.11/dist-packages/prophet/diagnostics.py\", line 10, in <module>\n",
            "    from tqdm.auto import tqdm\n",
            "  File \"/usr/local/lib/python3.11/dist-packages/tqdm/auto.py\", line 21, in <module>\n",
            "    from .autonotebook import tqdm as notebook_tqdm\n",
            "  File \"/usr/local/lib/python3.11/dist-packages/tqdm/autonotebook.py\", line 16, in <module>\n",
            "    from .notebook import WARN_NOIPYW, IProgress\n",
            "  File \"/usr/local/lib/python3.11/dist-packages/tqdm/notebook.py\", line 23, in <module>\n",
            "    import ipywidgets\n",
            "  File \"/usr/local/lib/python3.11/dist-packages/ipywidgets/__init__.py\", line 25, in <module>\n",
            "    from .widgets import *\n",
            "  File \"/usr/local/lib/python3.11/dist-packages/ipywidgets/widgets/__init__.py\", line 14, in <module>\n",
            "    from .widget_float import FloatText, BoundedFloatText, FloatSlider, FloatProgress, FloatRangeSlider, FloatLogSlider\n",
            "  File \"/usr/local/lib/python3.11/dist-packages/ipywidgets/widgets/widget_float.py\", line 17, in <module>\n",
            "    from .widget_int import ProgressStyle, SliderStyle\n",
            "  File \"/usr/local/lib/python3.11/dist-packages/ipywidgets/widgets/widget_int.py\", line 196, in <module>\n",
            "    class _IntRange(_Int):\n",
            "  File \"/usr/local/lib/python3.11/dist-packages/traitlets/traitlets.py\", line 972, in __init__\n",
            "    cls.setup_class(classdict)\n",
            "  File \"/usr/local/lib/python3.11/dist-packages/traitlets/traitlets.py\", line None, in setup_class\n",
            "KeyboardInterrupt\n",
            "\n",
            "During handling of the above exception, another exception occurred:\n",
            "\n",
            "Traceback (most recent call last):\n",
            "  File \"/usr/local/lib/python3.11/dist-packages/IPython/core/interactiveshell.py\", line 2099, in showtraceback\n",
            "    stb = value._render_traceback_()\n",
            "          ^^^^^^^^^^^^^^^^^^^^^^^^\n",
            "AttributeError: 'KeyboardInterrupt' object has no attribute '_render_traceback_'\n",
            "\n",
            "During handling of the above exception, another exception occurred:\n",
            "\n",
            "Traceback (most recent call last):\n",
            "  File \"/usr/local/lib/python3.11/dist-packages/IPython/core/interactiveshell.py\", line 3473, in run_ast_nodes\n",
            "    if (await self.run_code(code, result,  async_=asy)):\n",
            "        ^^^^^^^^^^^^^^^^^^^^^^^^^^^^^^^^^^^^^^^^^^^^^^\n",
            "  File \"/usr/local/lib/python3.11/dist-packages/IPython/core/interactiveshell.py\", line 3575, in run_code\n",
            "    self.showtraceback(running_compiled_code=True)\n",
            "  File \"/usr/local/lib/python3.11/dist-packages/IPython/core/interactiveshell.py\", line 2101, in showtraceback\n",
            "    stb = self.InteractiveTB.structured_traceback(etype,\n",
            "          ^^^^^^^^^^^^^^^^^^^^^^^^^^^^^^^^^^^^^^^^^^^^^^\n",
            "  File \"/usr/local/lib/python3.11/dist-packages/IPython/core/ultratb.py\", line 1367, in structured_traceback\n",
            "    return FormattedTB.structured_traceback(\n",
            "           ^^^^^^^^^^^^^^^^^^^^^^^^^^^^^^^^^\n",
            "  File \"/usr/local/lib/python3.11/dist-packages/IPython/core/ultratb.py\", line 1267, in structured_traceback\n",
            "    return VerboseTB.structured_traceback(\n",
            "           ^^^^^^^^^^^^^^^^^^^^^^^^^^^^^^^\n",
            "  File \"/usr/local/lib/python3.11/dist-packages/IPython/core/ultratb.py\", line 1124, in structured_traceback\n",
            "    formatted_exception = self.format_exception_as_a_whole(etype, evalue, etb, number_of_lines_of_context,\n",
            "                          ^^^^^^^^^^^^^^^^^^^^^^^^^^^^^^^^^^^^^^^^^^^^^^^^^^^^^^^^^^^^^^^^^^^^^^^^^^^^^^^^\n",
            "  File \"/usr/local/lib/python3.11/dist-packages/IPython/core/ultratb.py\", line 1082, in format_exception_as_a_whole\n",
            "    last_unique, recursion_repeat = find_recursion(orig_etype, evalue, records)\n",
            "                                    ^^^^^^^^^^^^^^^^^^^^^^^^^^^^^^^^^^^^^^^^^^^\n",
            "  File \"/usr/local/lib/python3.11/dist-packages/IPython/core/ultratb.py\", line 382, in find_recursion\n",
            "    return len(records), 0\n",
            "           ^^^^^^^^^^^^\n",
            "TypeError: object of type 'NoneType' has no len()\n",
            "\n",
            "During handling of the above exception, another exception occurred:\n",
            "\n",
            "Traceback (most recent call last):\n",
            "  File \"/usr/local/lib/python3.11/dist-packages/IPython/core/interactiveshell.py\", line 2099, in showtraceback\n",
            "    stb = value._render_traceback_()\n",
            "          ^^^^^^^^^^^^^^^^^^^^^^^^\n",
            "AttributeError: 'TypeError' object has no attribute '_render_traceback_'\n",
            "\n",
            "During handling of the above exception, another exception occurred:\n",
            "\n",
            "Traceback (most recent call last):\n",
            "  File \"/usr/local/lib/python3.11/dist-packages/IPython/core/ultratb.py\", line 1101, in get_records\n",
            "    return _fixed_getinnerframes(etb, number_of_lines_of_context, tb_offset)\n",
            "           ^^^^^^^^^^^^^^^^^^^^^^^^^^^^^^^^^^^^^^^^^^^^^^^^^^^^^^^^^^^^^^^^^\n",
            "  File \"/usr/local/lib/python3.11/dist-packages/IPython/core/ultratb.py\", line 248, in wrapped\n",
            "    return f(*args, **kwargs)\n",
            "           ^^^^^^^^^^^^^^^^^^\n",
            "  File \"/usr/local/lib/python3.11/dist-packages/IPython/core/ultratb.py\", line 281, in _fixed_getinnerframes\n",
            "    records = fix_frame_records_filenames(inspect.getinnerframes(etb, context))\n",
            "                                          ^^^^^^^^^^^^^^^^^^^^^^^^^^^^^^^^^^^^\n",
            "  File \"/usr/lib/python3.11/inspect.py\", line 1739, in getinnerframes\n",
            "    traceback_info = getframeinfo(tb, context)\n",
            "                     ^^^^^^^^^^^^^^^^^^^^^^^^^\n",
            "  File \"/usr/lib/python3.11/inspect.py\", line 1686, in getframeinfo\n",
            "    start = lineno - 1 - context//2\n",
            "            ~~~~~~~^~~\n",
            "TypeError: unsupported operand type(s) for -: 'NoneType' and 'int'\n",
            "Traceback (most recent call last):\n",
            "  File \"/usr/local/lib/python3.11/dist-packages/IPython/core/interactiveshell.py\", line 3553, in run_code\n",
            "    exec(code_obj, self.user_global_ns, self.user_ns)\n",
            "  File \"<ipython-input-3-04ba73a7da4b>\", line 8, in <cell line: 0>\n",
            "    from prophet import Prophet\n",
            "  File \"/usr/local/lib/python3.11/dist-packages/prophet/__init__.py\", line 7, in <module>\n",
            "    from prophet.forecaster import Prophet\n",
            "  File \"/usr/local/lib/python3.11/dist-packages/prophet/forecaster.py\", line 22, in <module>\n",
            "    from prophet.plot import (plot, plot_components)\n",
            "  File \"/usr/local/lib/python3.11/dist-packages/prophet/plot.py\", line 14, in <module>\n",
            "    from prophet.diagnostics import performance_metrics\n",
            "  File \"/usr/local/lib/python3.11/dist-packages/prophet/diagnostics.py\", line 10, in <module>\n",
            "    from tqdm.auto import tqdm\n",
            "  File \"/usr/local/lib/python3.11/dist-packages/tqdm/auto.py\", line 21, in <module>\n",
            "    from .autonotebook import tqdm as notebook_tqdm\n",
            "  File \"/usr/local/lib/python3.11/dist-packages/tqdm/autonotebook.py\", line 16, in <module>\n",
            "    from .notebook import WARN_NOIPYW, IProgress\n",
            "  File \"/usr/local/lib/python3.11/dist-packages/tqdm/notebook.py\", line 23, in <module>\n",
            "    import ipywidgets\n",
            "  File \"/usr/local/lib/python3.11/dist-packages/ipywidgets/__init__.py\", line 25, in <module>\n",
            "    from .widgets import *\n",
            "  File \"/usr/local/lib/python3.11/dist-packages/ipywidgets/widgets/__init__.py\", line 14, in <module>\n",
            "    from .widget_float import FloatText, BoundedFloatText, FloatSlider, FloatProgress, FloatRangeSlider, FloatLogSlider\n",
            "  File \"/usr/local/lib/python3.11/dist-packages/ipywidgets/widgets/widget_float.py\", line 17, in <module>\n",
            "    from .widget_int import ProgressStyle, SliderStyle\n",
            "  File \"/usr/local/lib/python3.11/dist-packages/ipywidgets/widgets/widget_int.py\", line 196, in <module>\n",
            "    class _IntRange(_Int):\n",
            "  File \"/usr/local/lib/python3.11/dist-packages/traitlets/traitlets.py\", line 972, in __init__\n",
            "    cls.setup_class(classdict)\n",
            "  File \"/usr/local/lib/python3.11/dist-packages/traitlets/traitlets.py\", line None, in setup_class\n",
            "KeyboardInterrupt\n",
            "\n",
            "During handling of the above exception, another exception occurred:\n",
            "\n",
            "Traceback (most recent call last):\n",
            "  File \"/usr/local/lib/python3.11/dist-packages/IPython/core/interactiveshell.py\", line 2099, in showtraceback\n",
            "    stb = value._render_traceback_()\n",
            "          ^^^^^^^^^^^^^^^^^^^^^^^^\n",
            "AttributeError: 'KeyboardInterrupt' object has no attribute '_render_traceback_'\n",
            "\n",
            "During handling of the above exception, another exception occurred:\n",
            "\n",
            "Traceback (most recent call last):\n",
            "  File \"/usr/local/lib/python3.11/dist-packages/IPython/core/interactiveshell.py\", line 3473, in run_ast_nodes\n",
            "    if (await self.run_code(code, result,  async_=asy)):\n",
            "        ^^^^^^^^^^^^^^^^^^^^^^^^^^^^^^^^^^^^^^^^^^^^^^\n",
            "  File \"/usr/local/lib/python3.11/dist-packages/IPython/core/interactiveshell.py\", line 3575, in run_code\n",
            "    self.showtraceback(running_compiled_code=True)\n",
            "  File \"/usr/local/lib/python3.11/dist-packages/IPython/core/interactiveshell.py\", line 2101, in showtraceback\n",
            "    stb = self.InteractiveTB.structured_traceback(etype,\n",
            "          ^^^^^^^^^^^^^^^^^^^^^^^^^^^^^^^^^^^^^^^^^^^^^^\n",
            "  File \"/usr/local/lib/python3.11/dist-packages/IPython/core/ultratb.py\", line 1367, in structured_traceback\n",
            "    return FormattedTB.structured_traceback(\n",
            "           ^^^^^^^^^^^^^^^^^^^^^^^^^^^^^^^^^\n",
            "  File \"/usr/local/lib/python3.11/dist-packages/IPython/core/ultratb.py\", line 1267, in structured_traceback\n",
            "    return VerboseTB.structured_traceback(\n",
            "           ^^^^^^^^^^^^^^^^^^^^^^^^^^^^^^^\n",
            "  File \"/usr/local/lib/python3.11/dist-packages/IPython/core/ultratb.py\", line 1124, in structured_traceback\n",
            "    formatted_exception = self.format_exception_as_a_whole(etype, evalue, etb, number_of_lines_of_context,\n",
            "                          ^^^^^^^^^^^^^^^^^^^^^^^^^^^^^^^^^^^^^^^^^^^^^^^^^^^^^^^^^^^^^^^^^^^^^^^^^^^^^^^^\n",
            "  File \"/usr/local/lib/python3.11/dist-packages/IPython/core/ultratb.py\", line 1082, in format_exception_as_a_whole\n",
            "    last_unique, recursion_repeat = find_recursion(orig_etype, evalue, records)\n",
            "                                    ^^^^^^^^^^^^^^^^^^^^^^^^^^^^^^^^^^^^^^^^^^^\n",
            "  File \"/usr/local/lib/python3.11/dist-packages/IPython/core/ultratb.py\", line 382, in find_recursion\n",
            "    return len(records), 0\n",
            "           ^^^^^^^^^^^^\n",
            "TypeError: object of type 'NoneType' has no len()\n",
            "\n",
            "During handling of the above exception, another exception occurred:\n",
            "\n",
            "Traceback (most recent call last):\n",
            "  File \"/usr/local/lib/python3.11/dist-packages/IPython/core/interactiveshell.py\", line 2099, in showtraceback\n",
            "    stb = value._render_traceback_()\n",
            "          ^^^^^^^^^^^^^^^^^^^^^^^^\n",
            "AttributeError: 'TypeError' object has no attribute '_render_traceback_'\n",
            "\n",
            "During handling of the above exception, another exception occurred:\n",
            "\n",
            "Traceback (most recent call last):\n",
            "  File \"/usr/local/lib/python3.11/dist-packages/IPython/core/interactiveshell.py\", line 3030, in _run_cell\n",
            "    return runner(coro)\n",
            "           ^^^^^^^^^^^^\n",
            "  File \"/usr/local/lib/python3.11/dist-packages/IPython/core/async_helpers.py\", line 78, in _pseudo_sync_runner\n",
            "    coro.send(None)\n",
            "  File \"/usr/local/lib/python3.11/dist-packages/IPython/core/interactiveshell.py\", line 3257, in run_cell_async\n",
            "    has_raised = await self.run_ast_nodes(code_ast.body, cell_name,\n",
            "                 ^^^^^^^^^^^^^^^^^^^^^^^^^^^^^^^^^^^^^^^^^^^^^^^^^^\n",
            "  File \"/usr/local/lib/python3.11/dist-packages/IPython/core/interactiveshell.py\", line 3492, in run_ast_nodes\n",
            "    self.showtraceback()\n",
            "  File \"/usr/local/lib/python3.11/dist-packages/IPython/core/interactiveshell.py\", line 2101, in showtraceback\n",
            "    stb = self.InteractiveTB.structured_traceback(etype,\n",
            "          ^^^^^^^^^^^^^^^^^^^^^^^^^^^^^^^^^^^^^^^^^^^^^^\n",
            "  File \"/usr/local/lib/python3.11/dist-packages/IPython/core/ultratb.py\", line 1367, in structured_traceback\n",
            "    return FormattedTB.structured_traceback(\n",
            "           ^^^^^^^^^^^^^^^^^^^^^^^^^^^^^^^^^\n",
            "  File \"/usr/local/lib/python3.11/dist-packages/IPython/core/ultratb.py\", line 1267, in structured_traceback\n",
            "    return VerboseTB.structured_traceback(\n",
            "           ^^^^^^^^^^^^^^^^^^^^^^^^^^^^^^^\n",
            "  File \"/usr/local/lib/python3.11/dist-packages/IPython/core/ultratb.py\", line 1142, in structured_traceback\n",
            "    formatted_exceptions += self.format_exception_as_a_whole(etype, evalue, etb, lines_of_context,\n",
            "                            ^^^^^^^^^^^^^^^^^^^^^^^^^^^^^^^^^^^^^^^^^^^^^^^^^^^^^^^^^^^^^^^^^^^^^^\n",
            "  File \"/usr/local/lib/python3.11/dist-packages/IPython/core/ultratb.py\", line 1082, in format_exception_as_a_whole\n",
            "    last_unique, recursion_repeat = find_recursion(orig_etype, evalue, records)\n",
            "                                    ^^^^^^^^^^^^^^^^^^^^^^^^^^^^^^^^^^^^^^^^^^^\n",
            "  File \"/usr/local/lib/python3.11/dist-packages/IPython/core/ultratb.py\", line 382, in find_recursion\n",
            "    return len(records), 0\n",
            "           ^^^^^^^^^^^^\n",
            "TypeError: object of type 'NoneType' has no len()\n",
            "\n",
            "During handling of the above exception, another exception occurred:\n",
            "\n",
            "Traceback (most recent call last):\n",
            "  File \"/usr/local/lib/python3.11/dist-packages/IPython/core/interactiveshell.py\", line 2099, in showtraceback\n",
            "    stb = value._render_traceback_()\n",
            "          ^^^^^^^^^^^^^^^^^^^^^^^^\n",
            "AttributeError: 'TypeError' object has no attribute '_render_traceback_'\n",
            "\n",
            "During handling of the above exception, another exception occurred:\n",
            "\n",
            "Traceback (most recent call last):\n",
            "  File \"/usr/local/lib/python3.11/dist-packages/IPython/core/ultratb.py\", line 1101, in get_records\n",
            "    return _fixed_getinnerframes(etb, number_of_lines_of_context, tb_offset)\n",
            "           ^^^^^^^^^^^^^^^^^^^^^^^^^^^^^^^^^^^^^^^^^^^^^^^^^^^^^^^^^^^^^^^^^\n",
            "  File \"/usr/local/lib/python3.11/dist-packages/IPython/core/ultratb.py\", line 248, in wrapped\n",
            "    return f(*args, **kwargs)\n",
            "           ^^^^^^^^^^^^^^^^^^\n",
            "  File \"/usr/local/lib/python3.11/dist-packages/IPython/core/ultratb.py\", line 281, in _fixed_getinnerframes\n",
            "    records = fix_frame_records_filenames(inspect.getinnerframes(etb, context))\n",
            "                                          ^^^^^^^^^^^^^^^^^^^^^^^^^^^^^^^^^^^^\n",
            "  File \"/usr/lib/python3.11/inspect.py\", line 1739, in getinnerframes\n",
            "    traceback_info = getframeinfo(tb, context)\n",
            "                     ^^^^^^^^^^^^^^^^^^^^^^^^^\n",
            "  File \"/usr/lib/python3.11/inspect.py\", line 1686, in getframeinfo\n",
            "    start = lineno - 1 - context//2\n",
            "            ~~~~~~~^~~\n",
            "TypeError: unsupported operand type(s) for -: 'NoneType' and 'int'\n"
          ]
        }
      ]
    },
    {
      "cell_type": "markdown",
      "source": [
        "## Raccolta Dati"
      ],
      "metadata": {
        "id": "x9GYlIe51isB"
      }
    },
    {
      "cell_type": "markdown",
      "source": [
        "### Raccolta dati\n"
      ],
      "metadata": {
        "id": "t4zxK6bj5uXg"
      }
    },
    {
      "cell_type": "markdown",
      "source": [
        "I dati utilizzati per questo progetto provengono dal sito CelesTrak, una fonte autorevole per informazioni sui satelliti orbitali.\n",
        "\n",
        "CelesTrak fornisce dati aggiornati relativi a oggetti in orbita, tra cui satelliti attivi, rottami spaziali e altre entità in orbita intorno alla Terra. I dati sono basati sugli elementi orbitali calcolati e aggiornati regolarmente tramite il modello General Perturbation (GP), che tiene conto di perturbazioni gravitazionali e atmosferiche.\n",
        "\n",
        "In particolare, ho utilizzato il file CSV degli \"Active Satellites\", accessibile all'indirizzo:  https://celestrak.org/NORAD/elements/table.php?GROUP=active&SHOW-OPS&OLDEST&FORMAT=csv\n",
        "(CelesTrak Active Satellites)\n",
        "\n",
        "Il dataset include elementi orbitali calcolati o aggiornati più di 3,5 giorni fa. Pertanto, non si tratta di dati in tempo reale, ma di dati recenti e affidabili, sufficientemente accurati per analisi esplorative."
      ],
      "metadata": {
        "id": "e13av_Kr3XCg"
      }
    },
    {
      "cell_type": "markdown",
      "source": [
        "Scarichiamo i dati CSV dal file degli \"Active Satellites\".\n"
      ],
      "metadata": {
        "id": "70mQojYPRoer"
      }
    },
    {
      "cell_type": "code",
      "source": [
        "# url del csv\n",
        "url = \"https://celestrak.org/NORAD/elements/gp.php?GROUP=active&FORMAT=csv\"\n",
        "\n",
        "# leggo il csv direttamente dall'url\n",
        "satellites_df = pd.read_csv(url)\n",
        "\n",
        "# visualizzazone delle prime righe del dataset\n",
        "print(satellites_df.head())\n",
        "\n",
        "# informazioni generali sul dataset\n",
        "print(satellites_df.info())"
      ],
      "metadata": {
        "colab": {
          "base_uri": "https://localhost:8080/"
        },
        "id": "yXNAGOoy3kaw",
        "outputId": "b722af9c-ca12-42a7-9bbe-af37c9c04cd9"
      },
      "execution_count": 138,
      "outputs": [
        {
          "output_type": "stream",
          "name": "stdout",
          "text": [
            "    OBJECT_NAME  OBJECT_ID                       EPOCH  MEAN_MOTION  \\\n",
            "0   CALSPHERE 1  1964-063C  2025-02-02T02:18:47.383200    13.757874   \n",
            "1   CALSPHERE 2  1964-063E  2025-02-01T13:27:56.255328    13.528457   \n",
            "2         LCS 1  1965-034C  2025-02-01T17:24:24.557472     9.893078   \n",
            "3     TEMPSAT 1  1965-065E  2025-02-01T12:50:46.729248    13.335529   \n",
            "4  CALSPHERE 4A  1965-065H  2025-02-01T17:41:41.716896    13.361622   \n",
            "\n",
            "   ECCENTRICITY  INCLINATION  RA_OF_ASC_NODE  ARG_OF_PERICENTER  MEAN_ANOMALY  \\\n",
            "0      0.002545      90.2075         60.3716            11.0315       49.8048   \n",
            "1      0.001680      90.2215         64.1262           237.4073      292.3615   \n",
            "2      0.001057      32.1418        285.3085           148.9736      211.1387   \n",
            "3      0.006868      89.9651        213.2561           213.3181      209.1635   \n",
            "4      0.007095      89.9341        126.6935            76.7358       90.1912   \n",
            "\n",
            "   EPHEMERIS_TYPE CLASSIFICATION_TYPE  NORAD_CAT_ID  ELEMENT_SET_NO  \\\n",
            "0               0                   U           900             999   \n",
            "1               0                   U           902             999   \n",
            "2               0                   U          1361             999   \n",
            "3               0                   U          1512             999   \n",
            "4               0                   U          1520             999   \n",
            "\n",
            "   REV_AT_EPOCH     BSTAR  MEAN_MOTION_DOT  MEAN_MOTION_DDOT  \n",
            "0           263  0.001211     1.182000e-05               0.0  \n",
            "1         78857  0.000114     8.500000e-07               0.0  \n",
            "2         16032  0.001860     2.300000e-07               0.0  \n",
            "3         89332  0.000101     5.900000e-07               0.0  \n",
            "4         89587  0.000308     1.700000e-06               0.0  \n",
            "<class 'pandas.core.frame.DataFrame'>\n",
            "RangeIndex: 10867 entries, 0 to 10866\n",
            "Data columns (total 17 columns):\n",
            " #   Column               Non-Null Count  Dtype  \n",
            "---  ------               --------------  -----  \n",
            " 0   OBJECT_NAME          10867 non-null  object \n",
            " 1   OBJECT_ID            10867 non-null  object \n",
            " 2   EPOCH                10867 non-null  object \n",
            " 3   MEAN_MOTION          10867 non-null  float64\n",
            " 4   ECCENTRICITY         10867 non-null  float64\n",
            " 5   INCLINATION          10867 non-null  float64\n",
            " 6   RA_OF_ASC_NODE       10867 non-null  float64\n",
            " 7   ARG_OF_PERICENTER    10867 non-null  float64\n",
            " 8   MEAN_ANOMALY         10867 non-null  float64\n",
            " 9   EPHEMERIS_TYPE       10867 non-null  int64  \n",
            " 10  CLASSIFICATION_TYPE  10867 non-null  object \n",
            " 11  NORAD_CAT_ID         10867 non-null  int64  \n",
            " 12  ELEMENT_SET_NO       10867 non-null  int64  \n",
            " 13  REV_AT_EPOCH         10867 non-null  int64  \n",
            " 14  BSTAR                10867 non-null  float64\n",
            " 15  MEAN_MOTION_DOT      10867 non-null  float64\n",
            " 16  MEAN_MOTION_DDOT     10867 non-null  float64\n",
            "dtypes: float64(9), int64(4), object(4)\n",
            "memory usage: 1.4+ MB\n",
            "None\n"
          ]
        }
      ]
    },
    {
      "cell_type": "markdown",
      "source": [
        "## Esplorazione e pulizia dei dati\n"
      ],
      "metadata": {
        "id": "wY8htmDj5p8n"
      }
    },
    {
      "cell_type": "code",
      "source": [
        "satellites_df"
      ],
      "metadata": {
        "colab": {
          "base_uri": "https://localhost:8080/",
          "height": 0
        },
        "id": "wYwc2HLY51tv",
        "outputId": "4c131a0b-c746-4c58-cc85-19d59b1358bc"
      },
      "execution_count": 139,
      "outputs": [
        {
          "output_type": "execute_result",
          "data": {
            "text/plain": [
              "             OBJECT_NAME  OBJECT_ID                       EPOCH  MEAN_MOTION  \\\n",
              "0            CALSPHERE 1  1964-063C  2025-02-02T02:18:47.383200    13.757874   \n",
              "1            CALSPHERE 2  1964-063E  2025-02-01T13:27:56.255328    13.528457   \n",
              "2                  LCS 1  1965-034C  2025-02-01T17:24:24.557472     9.893078   \n",
              "3              TEMPSAT 1  1965-065E  2025-02-01T12:50:46.729248    13.335529   \n",
              "4           CALSPHERE 4A  1965-065H  2025-02-01T17:41:41.716896    13.361622   \n",
              "...                  ...        ...                         ...          ...   \n",
              "10862     STARLINK-32704  2025-018W  2025-02-02T06:00:02.000160    15.906580   \n",
              "10863     STARLINK-32838  2025-018X  2025-02-02T06:00:02.000160    15.928658   \n",
              "10864     STARLINK-32727  2025-018Y  2025-02-02T06:00:02.000160    15.908348   \n",
              "10865  NVS-02 (IRNSS-1K)  2025-020A  2025-02-01T12:18:31.094496     2.164051   \n",
              "10866      SPAINSAT NG I  2025-021A  2025-01-31T00:23:41.953056     1.050487   \n",
              "\n",
              "       ECCENTRICITY  INCLINATION  RA_OF_ASC_NODE  ARG_OF_PERICENTER  \\\n",
              "0          0.002545      90.2075         60.3716            11.0315   \n",
              "1          0.001680      90.2215         64.1262           237.4073   \n",
              "2          0.001057      32.1418        285.3085           148.9736   \n",
              "3          0.006868      89.9651        213.2561           213.3181   \n",
              "4          0.007095      89.9341        126.6935            76.7358   \n",
              "...             ...          ...             ...                ...   \n",
              "10862      0.000112      53.1476         21.5841           114.7579   \n",
              "10863      0.000140      53.1473         21.5741           100.7691   \n",
              "10864      0.000108      53.1473         21.5701           117.4239   \n",
              "10865      0.740863      20.7590         81.5746           180.3840   \n",
              "10866      0.832423      26.8168        345.1666           176.6730   \n",
              "\n",
              "       MEAN_ANOMALY  EPHEMERIS_TYPE CLASSIFICATION_TYPE  NORAD_CAT_ID  \\\n",
              "0           49.8048               0                   U           900   \n",
              "1          292.3615               0                   U           902   \n",
              "2          211.1387               0                   U          1361   \n",
              "3          209.1635               0                   U          1512   \n",
              "4           90.1912               0                   U          1520   \n",
              "...             ...             ...                 ...           ...   \n",
              "10862      165.0638               0                   U         62826   \n",
              "10863      183.8388               0                   U         62827   \n",
              "10864      168.9846               0                   U         62828   \n",
              "10865      178.2846               0                   U         62850   \n",
              "10866      356.4087               0                   U         62852   \n",
              "\n",
              "       ELEMENT_SET_NO  REV_AT_EPOCH     BSTAR  MEAN_MOTION_DOT  \\\n",
              "0                 999           263  0.001211     1.182000e-05   \n",
              "1                 999         78857  0.000114     8.500000e-07   \n",
              "2                 999         16032  0.001860     2.300000e-07   \n",
              "3                 999         89332  0.000101     5.900000e-07   \n",
              "4                 999         89587  0.000308     1.700000e-06   \n",
              "...               ...           ...       ...              ...   \n",
              "10862             999           263 -0.003633    -1.151289e-02   \n",
              "10863             999           239  0.001742     6.153410e-03   \n",
              "10864             999           263 -0.003665    -1.171795e-02   \n",
              "10865             999             7  0.001134     4.084900e-04   \n",
              "10866             999             0  0.000000    -4.430000e-06   \n",
              "\n",
              "       MEAN_MOTION_DDOT  \n",
              "0          0.000000e+00  \n",
              "1          0.000000e+00  \n",
              "2          0.000000e+00  \n",
              "3          0.000000e+00  \n",
              "4          0.000000e+00  \n",
              "...                 ...  \n",
              "10862      3.900400e-04  \n",
              "10863      1.634200e-04  \n",
              "10864      4.034400e-04  \n",
              "10865     -6.964600e-07  \n",
              "10866      0.000000e+00  \n",
              "\n",
              "[10867 rows x 17 columns]"
            ],
            "text/html": [
              "\n",
              "  <div id=\"df-069f83f4-c1b1-4183-b57d-7a42418b491d\" class=\"colab-df-container\">\n",
              "    <div>\n",
              "<style scoped>\n",
              "    .dataframe tbody tr th:only-of-type {\n",
              "        vertical-align: middle;\n",
              "    }\n",
              "\n",
              "    .dataframe tbody tr th {\n",
              "        vertical-align: top;\n",
              "    }\n",
              "\n",
              "    .dataframe thead th {\n",
              "        text-align: right;\n",
              "    }\n",
              "</style>\n",
              "<table border=\"1\" class=\"dataframe\">\n",
              "  <thead>\n",
              "    <tr style=\"text-align: right;\">\n",
              "      <th></th>\n",
              "      <th>OBJECT_NAME</th>\n",
              "      <th>OBJECT_ID</th>\n",
              "      <th>EPOCH</th>\n",
              "      <th>MEAN_MOTION</th>\n",
              "      <th>ECCENTRICITY</th>\n",
              "      <th>INCLINATION</th>\n",
              "      <th>RA_OF_ASC_NODE</th>\n",
              "      <th>ARG_OF_PERICENTER</th>\n",
              "      <th>MEAN_ANOMALY</th>\n",
              "      <th>EPHEMERIS_TYPE</th>\n",
              "      <th>CLASSIFICATION_TYPE</th>\n",
              "      <th>NORAD_CAT_ID</th>\n",
              "      <th>ELEMENT_SET_NO</th>\n",
              "      <th>REV_AT_EPOCH</th>\n",
              "      <th>BSTAR</th>\n",
              "      <th>MEAN_MOTION_DOT</th>\n",
              "      <th>MEAN_MOTION_DDOT</th>\n",
              "    </tr>\n",
              "  </thead>\n",
              "  <tbody>\n",
              "    <tr>\n",
              "      <th>0</th>\n",
              "      <td>CALSPHERE 1</td>\n",
              "      <td>1964-063C</td>\n",
              "      <td>2025-02-02T02:18:47.383200</td>\n",
              "      <td>13.757874</td>\n",
              "      <td>0.002545</td>\n",
              "      <td>90.2075</td>\n",
              "      <td>60.3716</td>\n",
              "      <td>11.0315</td>\n",
              "      <td>49.8048</td>\n",
              "      <td>0</td>\n",
              "      <td>U</td>\n",
              "      <td>900</td>\n",
              "      <td>999</td>\n",
              "      <td>263</td>\n",
              "      <td>0.001211</td>\n",
              "      <td>1.182000e-05</td>\n",
              "      <td>0.000000e+00</td>\n",
              "    </tr>\n",
              "    <tr>\n",
              "      <th>1</th>\n",
              "      <td>CALSPHERE 2</td>\n",
              "      <td>1964-063E</td>\n",
              "      <td>2025-02-01T13:27:56.255328</td>\n",
              "      <td>13.528457</td>\n",
              "      <td>0.001680</td>\n",
              "      <td>90.2215</td>\n",
              "      <td>64.1262</td>\n",
              "      <td>237.4073</td>\n",
              "      <td>292.3615</td>\n",
              "      <td>0</td>\n",
              "      <td>U</td>\n",
              "      <td>902</td>\n",
              "      <td>999</td>\n",
              "      <td>78857</td>\n",
              "      <td>0.000114</td>\n",
              "      <td>8.500000e-07</td>\n",
              "      <td>0.000000e+00</td>\n",
              "    </tr>\n",
              "    <tr>\n",
              "      <th>2</th>\n",
              "      <td>LCS 1</td>\n",
              "      <td>1965-034C</td>\n",
              "      <td>2025-02-01T17:24:24.557472</td>\n",
              "      <td>9.893078</td>\n",
              "      <td>0.001057</td>\n",
              "      <td>32.1418</td>\n",
              "      <td>285.3085</td>\n",
              "      <td>148.9736</td>\n",
              "      <td>211.1387</td>\n",
              "      <td>0</td>\n",
              "      <td>U</td>\n",
              "      <td>1361</td>\n",
              "      <td>999</td>\n",
              "      <td>16032</td>\n",
              "      <td>0.001860</td>\n",
              "      <td>2.300000e-07</td>\n",
              "      <td>0.000000e+00</td>\n",
              "    </tr>\n",
              "    <tr>\n",
              "      <th>3</th>\n",
              "      <td>TEMPSAT 1</td>\n",
              "      <td>1965-065E</td>\n",
              "      <td>2025-02-01T12:50:46.729248</td>\n",
              "      <td>13.335529</td>\n",
              "      <td>0.006868</td>\n",
              "      <td>89.9651</td>\n",
              "      <td>213.2561</td>\n",
              "      <td>213.3181</td>\n",
              "      <td>209.1635</td>\n",
              "      <td>0</td>\n",
              "      <td>U</td>\n",
              "      <td>1512</td>\n",
              "      <td>999</td>\n",
              "      <td>89332</td>\n",
              "      <td>0.000101</td>\n",
              "      <td>5.900000e-07</td>\n",
              "      <td>0.000000e+00</td>\n",
              "    </tr>\n",
              "    <tr>\n",
              "      <th>4</th>\n",
              "      <td>CALSPHERE 4A</td>\n",
              "      <td>1965-065H</td>\n",
              "      <td>2025-02-01T17:41:41.716896</td>\n",
              "      <td>13.361622</td>\n",
              "      <td>0.007095</td>\n",
              "      <td>89.9341</td>\n",
              "      <td>126.6935</td>\n",
              "      <td>76.7358</td>\n",
              "      <td>90.1912</td>\n",
              "      <td>0</td>\n",
              "      <td>U</td>\n",
              "      <td>1520</td>\n",
              "      <td>999</td>\n",
              "      <td>89587</td>\n",
              "      <td>0.000308</td>\n",
              "      <td>1.700000e-06</td>\n",
              "      <td>0.000000e+00</td>\n",
              "    </tr>\n",
              "    <tr>\n",
              "      <th>...</th>\n",
              "      <td>...</td>\n",
              "      <td>...</td>\n",
              "      <td>...</td>\n",
              "      <td>...</td>\n",
              "      <td>...</td>\n",
              "      <td>...</td>\n",
              "      <td>...</td>\n",
              "      <td>...</td>\n",
              "      <td>...</td>\n",
              "      <td>...</td>\n",
              "      <td>...</td>\n",
              "      <td>...</td>\n",
              "      <td>...</td>\n",
              "      <td>...</td>\n",
              "      <td>...</td>\n",
              "      <td>...</td>\n",
              "      <td>...</td>\n",
              "    </tr>\n",
              "    <tr>\n",
              "      <th>10862</th>\n",
              "      <td>STARLINK-32704</td>\n",
              "      <td>2025-018W</td>\n",
              "      <td>2025-02-02T06:00:02.000160</td>\n",
              "      <td>15.906580</td>\n",
              "      <td>0.000112</td>\n",
              "      <td>53.1476</td>\n",
              "      <td>21.5841</td>\n",
              "      <td>114.7579</td>\n",
              "      <td>165.0638</td>\n",
              "      <td>0</td>\n",
              "      <td>U</td>\n",
              "      <td>62826</td>\n",
              "      <td>999</td>\n",
              "      <td>263</td>\n",
              "      <td>-0.003633</td>\n",
              "      <td>-1.151289e-02</td>\n",
              "      <td>3.900400e-04</td>\n",
              "    </tr>\n",
              "    <tr>\n",
              "      <th>10863</th>\n",
              "      <td>STARLINK-32838</td>\n",
              "      <td>2025-018X</td>\n",
              "      <td>2025-02-02T06:00:02.000160</td>\n",
              "      <td>15.928658</td>\n",
              "      <td>0.000140</td>\n",
              "      <td>53.1473</td>\n",
              "      <td>21.5741</td>\n",
              "      <td>100.7691</td>\n",
              "      <td>183.8388</td>\n",
              "      <td>0</td>\n",
              "      <td>U</td>\n",
              "      <td>62827</td>\n",
              "      <td>999</td>\n",
              "      <td>239</td>\n",
              "      <td>0.001742</td>\n",
              "      <td>6.153410e-03</td>\n",
              "      <td>1.634200e-04</td>\n",
              "    </tr>\n",
              "    <tr>\n",
              "      <th>10864</th>\n",
              "      <td>STARLINK-32727</td>\n",
              "      <td>2025-018Y</td>\n",
              "      <td>2025-02-02T06:00:02.000160</td>\n",
              "      <td>15.908348</td>\n",
              "      <td>0.000108</td>\n",
              "      <td>53.1473</td>\n",
              "      <td>21.5701</td>\n",
              "      <td>117.4239</td>\n",
              "      <td>168.9846</td>\n",
              "      <td>0</td>\n",
              "      <td>U</td>\n",
              "      <td>62828</td>\n",
              "      <td>999</td>\n",
              "      <td>263</td>\n",
              "      <td>-0.003665</td>\n",
              "      <td>-1.171795e-02</td>\n",
              "      <td>4.034400e-04</td>\n",
              "    </tr>\n",
              "    <tr>\n",
              "      <th>10865</th>\n",
              "      <td>NVS-02 (IRNSS-1K)</td>\n",
              "      <td>2025-020A</td>\n",
              "      <td>2025-02-01T12:18:31.094496</td>\n",
              "      <td>2.164051</td>\n",
              "      <td>0.740863</td>\n",
              "      <td>20.7590</td>\n",
              "      <td>81.5746</td>\n",
              "      <td>180.3840</td>\n",
              "      <td>178.2846</td>\n",
              "      <td>0</td>\n",
              "      <td>U</td>\n",
              "      <td>62850</td>\n",
              "      <td>999</td>\n",
              "      <td>7</td>\n",
              "      <td>0.001134</td>\n",
              "      <td>4.084900e-04</td>\n",
              "      <td>-6.964600e-07</td>\n",
              "    </tr>\n",
              "    <tr>\n",
              "      <th>10866</th>\n",
              "      <td>SPAINSAT NG I</td>\n",
              "      <td>2025-021A</td>\n",
              "      <td>2025-01-31T00:23:41.953056</td>\n",
              "      <td>1.050487</td>\n",
              "      <td>0.832423</td>\n",
              "      <td>26.8168</td>\n",
              "      <td>345.1666</td>\n",
              "      <td>176.6730</td>\n",
              "      <td>356.4087</td>\n",
              "      <td>0</td>\n",
              "      <td>U</td>\n",
              "      <td>62852</td>\n",
              "      <td>999</td>\n",
              "      <td>0</td>\n",
              "      <td>0.000000</td>\n",
              "      <td>-4.430000e-06</td>\n",
              "      <td>0.000000e+00</td>\n",
              "    </tr>\n",
              "  </tbody>\n",
              "</table>\n",
              "<p>10867 rows × 17 columns</p>\n",
              "</div>\n",
              "    <div class=\"colab-df-buttons\">\n",
              "\n",
              "  <div class=\"colab-df-container\">\n",
              "    <button class=\"colab-df-convert\" onclick=\"convertToInteractive('df-069f83f4-c1b1-4183-b57d-7a42418b491d')\"\n",
              "            title=\"Convert this dataframe to an interactive table.\"\n",
              "            style=\"display:none;\">\n",
              "\n",
              "  <svg xmlns=\"http://www.w3.org/2000/svg\" height=\"24px\" viewBox=\"0 -960 960 960\">\n",
              "    <path d=\"M120-120v-720h720v720H120Zm60-500h600v-160H180v160Zm220 220h160v-160H400v160Zm0 220h160v-160H400v160ZM180-400h160v-160H180v160Zm440 0h160v-160H620v160ZM180-180h160v-160H180v160Zm440 0h160v-160H620v160Z\"/>\n",
              "  </svg>\n",
              "    </button>\n",
              "\n",
              "  <style>\n",
              "    .colab-df-container {\n",
              "      display:flex;\n",
              "      gap: 12px;\n",
              "    }\n",
              "\n",
              "    .colab-df-convert {\n",
              "      background-color: #E8F0FE;\n",
              "      border: none;\n",
              "      border-radius: 50%;\n",
              "      cursor: pointer;\n",
              "      display: none;\n",
              "      fill: #1967D2;\n",
              "      height: 32px;\n",
              "      padding: 0 0 0 0;\n",
              "      width: 32px;\n",
              "    }\n",
              "\n",
              "    .colab-df-convert:hover {\n",
              "      background-color: #E2EBFA;\n",
              "      box-shadow: 0px 1px 2px rgba(60, 64, 67, 0.3), 0px 1px 3px 1px rgba(60, 64, 67, 0.15);\n",
              "      fill: #174EA6;\n",
              "    }\n",
              "\n",
              "    .colab-df-buttons div {\n",
              "      margin-bottom: 4px;\n",
              "    }\n",
              "\n",
              "    [theme=dark] .colab-df-convert {\n",
              "      background-color: #3B4455;\n",
              "      fill: #D2E3FC;\n",
              "    }\n",
              "\n",
              "    [theme=dark] .colab-df-convert:hover {\n",
              "      background-color: #434B5C;\n",
              "      box-shadow: 0px 1px 3px 1px rgba(0, 0, 0, 0.15);\n",
              "      filter: drop-shadow(0px 1px 2px rgba(0, 0, 0, 0.3));\n",
              "      fill: #FFFFFF;\n",
              "    }\n",
              "  </style>\n",
              "\n",
              "    <script>\n",
              "      const buttonEl =\n",
              "        document.querySelector('#df-069f83f4-c1b1-4183-b57d-7a42418b491d button.colab-df-convert');\n",
              "      buttonEl.style.display =\n",
              "        google.colab.kernel.accessAllowed ? 'block' : 'none';\n",
              "\n",
              "      async function convertToInteractive(key) {\n",
              "        const element = document.querySelector('#df-069f83f4-c1b1-4183-b57d-7a42418b491d');\n",
              "        const dataTable =\n",
              "          await google.colab.kernel.invokeFunction('convertToInteractive',\n",
              "                                                    [key], {});\n",
              "        if (!dataTable) return;\n",
              "\n",
              "        const docLinkHtml = 'Like what you see? Visit the ' +\n",
              "          '<a target=\"_blank\" href=https://colab.research.google.com/notebooks/data_table.ipynb>data table notebook</a>'\n",
              "          + ' to learn more about interactive tables.';\n",
              "        element.innerHTML = '';\n",
              "        dataTable['output_type'] = 'display_data';\n",
              "        await google.colab.output.renderOutput(dataTable, element);\n",
              "        const docLink = document.createElement('div');\n",
              "        docLink.innerHTML = docLinkHtml;\n",
              "        element.appendChild(docLink);\n",
              "      }\n",
              "    </script>\n",
              "  </div>\n",
              "\n",
              "\n",
              "<div id=\"df-3ed529a4-28c4-4f66-9fc9-3a2d3b0f40d7\">\n",
              "  <button class=\"colab-df-quickchart\" onclick=\"quickchart('df-3ed529a4-28c4-4f66-9fc9-3a2d3b0f40d7')\"\n",
              "            title=\"Suggest charts\"\n",
              "            style=\"display:none;\">\n",
              "\n",
              "<svg xmlns=\"http://www.w3.org/2000/svg\" height=\"24px\"viewBox=\"0 0 24 24\"\n",
              "     width=\"24px\">\n",
              "    <g>\n",
              "        <path d=\"M19 3H5c-1.1 0-2 .9-2 2v14c0 1.1.9 2 2 2h14c1.1 0 2-.9 2-2V5c0-1.1-.9-2-2-2zM9 17H7v-7h2v7zm4 0h-2V7h2v10zm4 0h-2v-4h2v4z\"/>\n",
              "    </g>\n",
              "</svg>\n",
              "  </button>\n",
              "\n",
              "<style>\n",
              "  .colab-df-quickchart {\n",
              "      --bg-color: #E8F0FE;\n",
              "      --fill-color: #1967D2;\n",
              "      --hover-bg-color: #E2EBFA;\n",
              "      --hover-fill-color: #174EA6;\n",
              "      --disabled-fill-color: #AAA;\n",
              "      --disabled-bg-color: #DDD;\n",
              "  }\n",
              "\n",
              "  [theme=dark] .colab-df-quickchart {\n",
              "      --bg-color: #3B4455;\n",
              "      --fill-color: #D2E3FC;\n",
              "      --hover-bg-color: #434B5C;\n",
              "      --hover-fill-color: #FFFFFF;\n",
              "      --disabled-bg-color: #3B4455;\n",
              "      --disabled-fill-color: #666;\n",
              "  }\n",
              "\n",
              "  .colab-df-quickchart {\n",
              "    background-color: var(--bg-color);\n",
              "    border: none;\n",
              "    border-radius: 50%;\n",
              "    cursor: pointer;\n",
              "    display: none;\n",
              "    fill: var(--fill-color);\n",
              "    height: 32px;\n",
              "    padding: 0;\n",
              "    width: 32px;\n",
              "  }\n",
              "\n",
              "  .colab-df-quickchart:hover {\n",
              "    background-color: var(--hover-bg-color);\n",
              "    box-shadow: 0 1px 2px rgba(60, 64, 67, 0.3), 0 1px 3px 1px rgba(60, 64, 67, 0.15);\n",
              "    fill: var(--button-hover-fill-color);\n",
              "  }\n",
              "\n",
              "  .colab-df-quickchart-complete:disabled,\n",
              "  .colab-df-quickchart-complete:disabled:hover {\n",
              "    background-color: var(--disabled-bg-color);\n",
              "    fill: var(--disabled-fill-color);\n",
              "    box-shadow: none;\n",
              "  }\n",
              "\n",
              "  .colab-df-spinner {\n",
              "    border: 2px solid var(--fill-color);\n",
              "    border-color: transparent;\n",
              "    border-bottom-color: var(--fill-color);\n",
              "    animation:\n",
              "      spin 1s steps(1) infinite;\n",
              "  }\n",
              "\n",
              "  @keyframes spin {\n",
              "    0% {\n",
              "      border-color: transparent;\n",
              "      border-bottom-color: var(--fill-color);\n",
              "      border-left-color: var(--fill-color);\n",
              "    }\n",
              "    20% {\n",
              "      border-color: transparent;\n",
              "      border-left-color: var(--fill-color);\n",
              "      border-top-color: var(--fill-color);\n",
              "    }\n",
              "    30% {\n",
              "      border-color: transparent;\n",
              "      border-left-color: var(--fill-color);\n",
              "      border-top-color: var(--fill-color);\n",
              "      border-right-color: var(--fill-color);\n",
              "    }\n",
              "    40% {\n",
              "      border-color: transparent;\n",
              "      border-right-color: var(--fill-color);\n",
              "      border-top-color: var(--fill-color);\n",
              "    }\n",
              "    60% {\n",
              "      border-color: transparent;\n",
              "      border-right-color: var(--fill-color);\n",
              "    }\n",
              "    80% {\n",
              "      border-color: transparent;\n",
              "      border-right-color: var(--fill-color);\n",
              "      border-bottom-color: var(--fill-color);\n",
              "    }\n",
              "    90% {\n",
              "      border-color: transparent;\n",
              "      border-bottom-color: var(--fill-color);\n",
              "    }\n",
              "  }\n",
              "</style>\n",
              "\n",
              "  <script>\n",
              "    async function quickchart(key) {\n",
              "      const quickchartButtonEl =\n",
              "        document.querySelector('#' + key + ' button');\n",
              "      quickchartButtonEl.disabled = true;  // To prevent multiple clicks.\n",
              "      quickchartButtonEl.classList.add('colab-df-spinner');\n",
              "      try {\n",
              "        const charts = await google.colab.kernel.invokeFunction(\n",
              "            'suggestCharts', [key], {});\n",
              "      } catch (error) {\n",
              "        console.error('Error during call to suggestCharts:', error);\n",
              "      }\n",
              "      quickchartButtonEl.classList.remove('colab-df-spinner');\n",
              "      quickchartButtonEl.classList.add('colab-df-quickchart-complete');\n",
              "    }\n",
              "    (() => {\n",
              "      let quickchartButtonEl =\n",
              "        document.querySelector('#df-3ed529a4-28c4-4f66-9fc9-3a2d3b0f40d7 button');\n",
              "      quickchartButtonEl.style.display =\n",
              "        google.colab.kernel.accessAllowed ? 'block' : 'none';\n",
              "    })();\n",
              "  </script>\n",
              "</div>\n",
              "\n",
              "  <div id=\"id_efdb2288-c365-4ab0-b13f-c9969d5cee74\">\n",
              "    <style>\n",
              "      .colab-df-generate {\n",
              "        background-color: #E8F0FE;\n",
              "        border: none;\n",
              "        border-radius: 50%;\n",
              "        cursor: pointer;\n",
              "        display: none;\n",
              "        fill: #1967D2;\n",
              "        height: 32px;\n",
              "        padding: 0 0 0 0;\n",
              "        width: 32px;\n",
              "      }\n",
              "\n",
              "      .colab-df-generate:hover {\n",
              "        background-color: #E2EBFA;\n",
              "        box-shadow: 0px 1px 2px rgba(60, 64, 67, 0.3), 0px 1px 3px 1px rgba(60, 64, 67, 0.15);\n",
              "        fill: #174EA6;\n",
              "      }\n",
              "\n",
              "      [theme=dark] .colab-df-generate {\n",
              "        background-color: #3B4455;\n",
              "        fill: #D2E3FC;\n",
              "      }\n",
              "\n",
              "      [theme=dark] .colab-df-generate:hover {\n",
              "        background-color: #434B5C;\n",
              "        box-shadow: 0px 1px 3px 1px rgba(0, 0, 0, 0.15);\n",
              "        filter: drop-shadow(0px 1px 2px rgba(0, 0, 0, 0.3));\n",
              "        fill: #FFFFFF;\n",
              "      }\n",
              "    </style>\n",
              "    <button class=\"colab-df-generate\" onclick=\"generateWithVariable('satellites_df')\"\n",
              "            title=\"Generate code using this dataframe.\"\n",
              "            style=\"display:none;\">\n",
              "\n",
              "  <svg xmlns=\"http://www.w3.org/2000/svg\" height=\"24px\"viewBox=\"0 0 24 24\"\n",
              "       width=\"24px\">\n",
              "    <path d=\"M7,19H8.4L18.45,9,17,7.55,7,17.6ZM5,21V16.75L18.45,3.32a2,2,0,0,1,2.83,0l1.4,1.43a1.91,1.91,0,0,1,.58,1.4,1.91,1.91,0,0,1-.58,1.4L9.25,21ZM18.45,9,17,7.55Zm-12,3A5.31,5.31,0,0,0,4.9,8.1,5.31,5.31,0,0,0,1,6.5,5.31,5.31,0,0,0,4.9,4.9,5.31,5.31,0,0,0,6.5,1,5.31,5.31,0,0,0,8.1,4.9,5.31,5.31,0,0,0,12,6.5,5.46,5.46,0,0,0,6.5,12Z\"/>\n",
              "  </svg>\n",
              "    </button>\n",
              "    <script>\n",
              "      (() => {\n",
              "      const buttonEl =\n",
              "        document.querySelector('#id_efdb2288-c365-4ab0-b13f-c9969d5cee74 button.colab-df-generate');\n",
              "      buttonEl.style.display =\n",
              "        google.colab.kernel.accessAllowed ? 'block' : 'none';\n",
              "\n",
              "      buttonEl.onclick = () => {\n",
              "        google.colab.notebook.generateWithVariable('satellites_df');\n",
              "      }\n",
              "      })();\n",
              "    </script>\n",
              "  </div>\n",
              "\n",
              "    </div>\n",
              "  </div>\n"
            ],
            "application/vnd.google.colaboratory.intrinsic+json": {
              "type": "dataframe",
              "variable_name": "satellites_df",
              "summary": "{\n  \"name\": \"satellites_df\",\n  \"rows\": 10867,\n  \"fields\": [\n    {\n      \"column\": \"OBJECT_NAME\",\n      \"properties\": {\n        \"dtype\": \"string\",\n        \"num_unique_values\": 10866,\n        \"samples\": [\n          \"STARLINK-31342\",\n          \"FLORIPASAT-1\",\n          \"ONEWEB-0116\"\n        ],\n        \"semantic_type\": \"\",\n        \"description\": \"\"\n      }\n    },\n    {\n      \"column\": \"OBJECT_ID\",\n      \"properties\": {\n        \"dtype\": \"string\",\n        \"num_unique_values\": 10867,\n        \"samples\": [\n          \"2024-044R\",\n          \"2019-093G\",\n          \"2021-025E\"\n        ],\n        \"semantic_type\": \"\",\n        \"description\": \"\"\n      }\n    },\n    {\n      \"column\": \"EPOCH\",\n      \"properties\": {\n        \"dtype\": \"object\",\n        \"num_unique_values\": 10337,\n        \"samples\": [\n          \"2025-02-02T01:08:47.004864\",\n          \"2025-02-01T20:14:29.572512\",\n          \"2025-02-02T03:27:45.375552\"\n        ],\n        \"semantic_type\": \"\",\n        \"description\": \"\"\n      }\n    },\n    {\n      \"column\": \"MEAN_MOTION\",\n      \"properties\": {\n        \"dtype\": \"number\",\n        \"std\": 3.6200898909683374,\n        \"min\": 0.06955746,\n        \"max\": 16.43844684,\n        \"num_unique_values\": 10745,\n        \"samples\": [\n          15.06399405,\n          15.06389189,\n          15.30188675\n        ],\n        \"semantic_type\": \"\",\n        \"description\": \"\"\n      }\n    },\n    {\n      \"column\": \"ECCENTRICITY\",\n      \"properties\": {\n        \"dtype\": \"number\",\n        \"std\": 0.050731122002207946,\n        \"min\": 3.2e-06,\n        \"max\": 0.96509,\n        \"num_unique_values\": 4790,\n        \"samples\": [\n          6.25e-05,\n          0.0011637,\n          0.0001455\n        ],\n        \"semantic_type\": \"\",\n        \"description\": \"\"\n      }\n    },\n    {\n      \"column\": \"INCLINATION\",\n      \"properties\": {\n        \"dtype\": \"number\",\n        \"std\": 24.551317744776828,\n        \"min\": 0.0009,\n        \"max\": 153.718,\n        \"num_unique_values\": 3831,\n        \"samples\": [\n          53.2129,\n          97.4623,\n          43.0056\n        ],\n        \"semantic_type\": \"\",\n        \"description\": \"\"\n      }\n    },\n    {\n      \"column\": \"RA_OF_ASC_NODE\",\n      \"properties\": {\n        \"dtype\": \"number\",\n        \"std\": 103.24602242973951,\n        \"min\": 0.0296,\n        \"max\": 359.9916,\n        \"num_unique_values\": 10826,\n        \"samples\": [\n          163.1142,\n          45.4821,\n          321.2064\n        ],\n        \"semantic_type\": \"\",\n        \"description\": \"\"\n      }\n    },\n    {\n      \"column\": \"ARG_OF_PERICENTER\",\n      \"properties\": {\n        \"dtype\": \"number\",\n        \"std\": 93.69018598370418,\n        \"min\": 0.0919,\n        \"max\": 359.8569,\n        \"num_unique_values\": 10813,\n        \"samples\": [\n          87.6948,\n          88.8223,\n          89.8383\n        ],\n        \"semantic_type\": \"\",\n        \"description\": \"\"\n      }\n    },\n    {\n      \"column\": \"MEAN_ANOMALY\",\n      \"properties\": {\n        \"dtype\": \"number\",\n        \"std\": 93.7291934737069,\n        \"min\": 0.0001,\n        \"max\": 359.8815,\n        \"num_unique_values\": 10808,\n        \"samples\": [\n          157.7955,\n          302.5476,\n          309.434\n        ],\n        \"semantic_type\": \"\",\n        \"description\": \"\"\n      }\n    },\n    {\n      \"column\": \"EPHEMERIS_TYPE\",\n      \"properties\": {\n        \"dtype\": \"number\",\n        \"std\": 0,\n        \"min\": 0,\n        \"max\": 0,\n        \"num_unique_values\": 1,\n        \"samples\": [\n          0\n        ],\n        \"semantic_type\": \"\",\n        \"description\": \"\"\n      }\n    },\n    {\n      \"column\": \"CLASSIFICATION_TYPE\",\n      \"properties\": {\n        \"dtype\": \"category\",\n        \"num_unique_values\": 1,\n        \"samples\": [\n          \"U\"\n        ],\n        \"semantic_type\": \"\",\n        \"description\": \"\"\n      }\n    },\n    {\n      \"column\": \"NORAD_CAT_ID\",\n      \"properties\": {\n        \"dtype\": \"number\",\n        \"std\": 7856,\n        \"min\": 900,\n        \"max\": 62852,\n        \"num_unique_values\": 10867,\n        \"samples\": [\n          59167\n        ],\n        \"semantic_type\": \"\",\n        \"description\": \"\"\n      }\n    },\n    {\n      \"column\": \"ELEMENT_SET_NO\",\n      \"properties\": {\n        \"dtype\": \"number\",\n        \"std\": 0,\n        \"min\": 999,\n        \"max\": 999,\n        \"num_unique_values\": 1,\n        \"samples\": [\n          999\n        ],\n        \"semantic_type\": \"\",\n        \"description\": \"\"\n      }\n    },\n    {\n      \"column\": \"REV_AT_EPOCH\",\n      \"properties\": {\n        \"dtype\": \"number\",\n        \"std\": 13388,\n        \"min\": 0,\n        \"max\": 99960,\n        \"num_unique_values\": 6095,\n        \"samples\": [\n          2501\n        ],\n        \"semantic_type\": \"\",\n        \"description\": \"\"\n      }\n    },\n    {\n      \"column\": \"BSTAR\",\n      \"properties\": {\n        \"dtype\": \"number\",\n        \"std\": 0.008351279839433918,\n        \"min\": -0.27425,\n        \"max\": 0.076477,\n        \"num_unique_values\": 9780,\n        \"samples\": [\n          0.0022391\n        ],\n        \"semantic_type\": \"\",\n        \"description\": \"\"\n      }\n    },\n    {\n      \"column\": \"MEAN_MOTION_DOT\",\n      \"properties\": {\n        \"dtype\": \"number\",\n        \"std\": 0.00281566162461404,\n        \"min\": -0.01599162,\n        \"max\": 0.1763555,\n        \"num_unique_values\": 7086,\n        \"samples\": [\n          0.00013139\n        ],\n        \"semantic_type\": \"\",\n        \"description\": \"\"\n      }\n    },\n    {\n      \"column\": \"MEAN_MOTION_DDOT\",\n      \"properties\": {\n        \"dtype\": \"number\",\n        \"std\": 0.00012314015092358409,\n        \"min\": -6.9646e-07,\n        \"max\": 0.0064823,\n        \"num_unique_values\": 137,\n        \"samples\": [\n          9.578e-08\n        ],\n        \"semantic_type\": \"\",\n        \"description\": \"\"\n      }\n    }\n  ]\n}"
            }
          },
          "metadata": {},
          "execution_count": 139
        }
      ]
    },
    {
      "cell_type": "markdown",
      "source": [
        "Il dataset e' compsoto da 17 colonne:\n",
        "1. OBJECT_NAME\n",
        "\n",
        "Nome del satellite o dell'oggetto orbitale (es. \"CALSPHERE\", \"LCS\").\n",
        "Descrive il nome assegnato ufficialmente all'oggetto.\n",
        "2. OBJECT_ID\n",
        "\n",
        "Identificativo univoco dell'oggetto, che segue il formato \"anno-lancio-lettera\" (es. \"1964-063C\").\n",
        "Indica l'anno e il numero del lancio seguito da un suffisso che identifica specifici satelliti o frammenti dello stesso lancio.\n",
        "3. EPOCH\n",
        "\n",
        "Momento temporale (tempo GPS) in cui i parametri orbitali sono stati calcolati.\n",
        "Serve per sapere quando i dati orbitali sono stati aggiornati.\n",
        "4. MEAN_MOTION\n",
        "\n",
        "Numero di rivoluzioni che il satellite completa intorno alla Terra in un giorno.\n",
        "Valori alti (> 12) indicano orbite basse (LEO), mentre valori bassi indicano orbite più alte.\n",
        "5. ECCENTRICITY\n",
        "\n",
        "Eccentricità dell'orbita (valore tra 0 e 1).\n",
        "0 rappresenta un'orbita perfettamente circolare; valori vicini a 1 indicano orbite altamente ellittiche.\n",
        "6. INCLINATION\n",
        "\n",
        "Angolo dell'orbita rispetto al piano equatoriale terrestre, espresso in gradi.\n",
        "0°: orbita equatoriale; 90°: orbita polare.\n",
        "7. RA_OF_ASC_NODE (Right Ascension of Ascending Node)\n",
        "\n",
        "Ascensione retta del nodo ascendente, misurata in gradi.\n",
        "Indica dove l'orbita attraversa l'equatore terrestre verso nord.\n",
        "8. ARG_OF_PERICENTER\n",
        "\n",
        "Argomento del perigeo, misurato in gradi.\n",
        "Specifica l'orientamento dell'orbita ellittica rispetto al perigeo (punto più vicino alla Terra).\n",
        "9. MEAN_ANOMALY\n",
        "\n",
        "Anomalia media, misurata in gradi.\n",
        "Indica la posizione del satellite nella sua orbita in un momento specifico (EPOCH).\n",
        "10. EPHEMERIS_TYPE\n",
        "\n",
        "Tipo di efemeridi utilizzate per calcolare l'orbita.\n",
        "Generalmente valori numerici che indicano il modello utilizzato (0 = standard).\n",
        "11. CLASSIFICATION_TYPE\n",
        "\n",
        "Classificazione del satellite (es. \"U\" per Unclassified, \"C\" per Classified).\n",
        "Distingue tra satelliti pubblici, classificati o militari.\n",
        "12. NORAD_CAT_ID\n",
        "\n",
        "Identificativo assegnato dal NORAD per tracciare l'oggetto.\n",
        "È un numero unico associato a ciascun satellite o frammento.\n",
        "13. ELEMENT_SET_NO\n",
        "\n",
        "Numero del set di elementi orbitali.\n",
        "Indica la versione o il ciclo di aggiornamento degli elementi orbitali.\n",
        "14. REV_AT_EPOCH\n",
        "\n",
        "Numero di rivoluzioni completate dal satellite al momento dell'EPOCH.\n",
        "Utile per tracciare la posizione temporale dell'oggetto nella sua orbita.\n",
        "15. BSTAR\n",
        "\n",
        "Coefficiente di frenata atmosferica.\n",
        "Misura l'influenza della resistenza atmosferica sul satellite (importante per orbite basse).\n",
        "16. MEAN_MOTION_DOT\n",
        "\n",
        "Tasso di cambiamento medio del moto orbitale (rivoluzioni/giorno²).\n",
        "Indica quanto velocemente cambia il numero di orbite giornaliere.\n",
        "17. MEAN_MOTION_DDOT\n",
        "\n",
        "Derivata seconda del moto medio (rivoluzioni/giorno³).\n",
        "È una misura avanzata per il monitoraggio di cambiamenti orbitali complessi.\n"
      ],
      "metadata": {
        "id": "5qA3qTtx6byK"
      }
    },
    {
      "cell_type": "code",
      "source": [
        "# controllo la presenza di valori nulli per ciascuna colonna\n",
        "print(satellites_df.isnull().sum())\n",
        "\n",
        "# visualizzo il totale di valori nulli nel dataset\n",
        "print(f\"Totale valori nulli: {satellites_df.isnull().sum().sum()}\")\n"
      ],
      "metadata": {
        "colab": {
          "base_uri": "https://localhost:8080/"
        },
        "id": "5WHTQuAzS2j9",
        "outputId": "45baf609-4b6b-4823-95ae-7a9410960723"
      },
      "execution_count": 140,
      "outputs": [
        {
          "output_type": "stream",
          "name": "stdout",
          "text": [
            "OBJECT_NAME            0\n",
            "OBJECT_ID              0\n",
            "EPOCH                  0\n",
            "MEAN_MOTION            0\n",
            "ECCENTRICITY           0\n",
            "INCLINATION            0\n",
            "RA_OF_ASC_NODE         0\n",
            "ARG_OF_PERICENTER      0\n",
            "MEAN_ANOMALY           0\n",
            "EPHEMERIS_TYPE         0\n",
            "CLASSIFICATION_TYPE    0\n",
            "NORAD_CAT_ID           0\n",
            "ELEMENT_SET_NO         0\n",
            "REV_AT_EPOCH           0\n",
            "BSTAR                  0\n",
            "MEAN_MOTION_DOT        0\n",
            "MEAN_MOTION_DDOT       0\n",
            "dtype: int64\n",
            "Totale valori nulli: 0\n"
          ]
        }
      ]
    },
    {
      "cell_type": "markdown",
      "source": [
        "Il dataset non presenta valori nulli, quindi non sono necessarie ulteriori operazioni di pulizia."
      ],
      "metadata": {
        "id": "AeOEpo73TExj"
      }
    },
    {
      "cell_type": "markdown",
      "source": [
        "Dato l'obiettivo del progetto, che è analizzare i satelliti orbitali per identificare tendenze e distribuzioni principali, non tutte le 17 colonne presenti nel dataset originale sono necessarie.\n",
        "Procedo all'eliminazione di alcune colonne perché non erano direttamente rilevanti per l'analisi."
      ],
      "metadata": {
        "id": "DT3WFwbPTqgl"
      }
    },
    {
      "cell_type": "code",
      "source": [
        "## selezione delle colonne che non servono\n",
        "columns_to_drop = [\n",
        "    'INCLINATION', 'RA_OF_ASC_NODE', 'ARG_OF_PERICENTER', 'MEAN_ANOMALY',\n",
        "    'EPHEMERIS_TYPE', 'ELEMENT_SET_NO', 'REV_AT_EPOCH',\n",
        "    'BSTAR', 'MEAN_MOTION_DOT', 'MEAN_MOTION_DDOT'\n",
        "]\n",
        "\n",
        "# rimozione delle colonne\n",
        "satellites_df = satellites_df.drop(columns=columns_to_drop, axis=1)\n",
        "\n",
        "# visualizzazione del dataset aggiornato\n",
        "satellites_df\n"
      ],
      "metadata": {
        "colab": {
          "base_uri": "https://localhost:8080/",
          "height": 0
        },
        "id": "wictXcnyXlHO",
        "outputId": "e06cd2fd-6e02-4bb5-a102-ee90dd1e83db"
      },
      "execution_count": 141,
      "outputs": [
        {
          "output_type": "execute_result",
          "data": {
            "text/plain": [
              "             OBJECT_NAME  OBJECT_ID                       EPOCH  MEAN_MOTION  \\\n",
              "0            CALSPHERE 1  1964-063C  2025-02-02T02:18:47.383200    13.757874   \n",
              "1            CALSPHERE 2  1964-063E  2025-02-01T13:27:56.255328    13.528457   \n",
              "2                  LCS 1  1965-034C  2025-02-01T17:24:24.557472     9.893078   \n",
              "3              TEMPSAT 1  1965-065E  2025-02-01T12:50:46.729248    13.335529   \n",
              "4           CALSPHERE 4A  1965-065H  2025-02-01T17:41:41.716896    13.361622   \n",
              "...                  ...        ...                         ...          ...   \n",
              "10862     STARLINK-32704  2025-018W  2025-02-02T06:00:02.000160    15.906580   \n",
              "10863     STARLINK-32838  2025-018X  2025-02-02T06:00:02.000160    15.928658   \n",
              "10864     STARLINK-32727  2025-018Y  2025-02-02T06:00:02.000160    15.908348   \n",
              "10865  NVS-02 (IRNSS-1K)  2025-020A  2025-02-01T12:18:31.094496     2.164051   \n",
              "10866      SPAINSAT NG I  2025-021A  2025-01-31T00:23:41.953056     1.050487   \n",
              "\n",
              "       ECCENTRICITY CLASSIFICATION_TYPE  NORAD_CAT_ID  \n",
              "0          0.002545                   U           900  \n",
              "1          0.001680                   U           902  \n",
              "2          0.001057                   U          1361  \n",
              "3          0.006868                   U          1512  \n",
              "4          0.007095                   U          1520  \n",
              "...             ...                 ...           ...  \n",
              "10862      0.000112                   U         62826  \n",
              "10863      0.000140                   U         62827  \n",
              "10864      0.000108                   U         62828  \n",
              "10865      0.740863                   U         62850  \n",
              "10866      0.832423                   U         62852  \n",
              "\n",
              "[10867 rows x 7 columns]"
            ],
            "text/html": [
              "\n",
              "  <div id=\"df-de672cf6-77e6-47f2-a225-e5647b694a36\" class=\"colab-df-container\">\n",
              "    <div>\n",
              "<style scoped>\n",
              "    .dataframe tbody tr th:only-of-type {\n",
              "        vertical-align: middle;\n",
              "    }\n",
              "\n",
              "    .dataframe tbody tr th {\n",
              "        vertical-align: top;\n",
              "    }\n",
              "\n",
              "    .dataframe thead th {\n",
              "        text-align: right;\n",
              "    }\n",
              "</style>\n",
              "<table border=\"1\" class=\"dataframe\">\n",
              "  <thead>\n",
              "    <tr style=\"text-align: right;\">\n",
              "      <th></th>\n",
              "      <th>OBJECT_NAME</th>\n",
              "      <th>OBJECT_ID</th>\n",
              "      <th>EPOCH</th>\n",
              "      <th>MEAN_MOTION</th>\n",
              "      <th>ECCENTRICITY</th>\n",
              "      <th>CLASSIFICATION_TYPE</th>\n",
              "      <th>NORAD_CAT_ID</th>\n",
              "    </tr>\n",
              "  </thead>\n",
              "  <tbody>\n",
              "    <tr>\n",
              "      <th>0</th>\n",
              "      <td>CALSPHERE 1</td>\n",
              "      <td>1964-063C</td>\n",
              "      <td>2025-02-02T02:18:47.383200</td>\n",
              "      <td>13.757874</td>\n",
              "      <td>0.002545</td>\n",
              "      <td>U</td>\n",
              "      <td>900</td>\n",
              "    </tr>\n",
              "    <tr>\n",
              "      <th>1</th>\n",
              "      <td>CALSPHERE 2</td>\n",
              "      <td>1964-063E</td>\n",
              "      <td>2025-02-01T13:27:56.255328</td>\n",
              "      <td>13.528457</td>\n",
              "      <td>0.001680</td>\n",
              "      <td>U</td>\n",
              "      <td>902</td>\n",
              "    </tr>\n",
              "    <tr>\n",
              "      <th>2</th>\n",
              "      <td>LCS 1</td>\n",
              "      <td>1965-034C</td>\n",
              "      <td>2025-02-01T17:24:24.557472</td>\n",
              "      <td>9.893078</td>\n",
              "      <td>0.001057</td>\n",
              "      <td>U</td>\n",
              "      <td>1361</td>\n",
              "    </tr>\n",
              "    <tr>\n",
              "      <th>3</th>\n",
              "      <td>TEMPSAT 1</td>\n",
              "      <td>1965-065E</td>\n",
              "      <td>2025-02-01T12:50:46.729248</td>\n",
              "      <td>13.335529</td>\n",
              "      <td>0.006868</td>\n",
              "      <td>U</td>\n",
              "      <td>1512</td>\n",
              "    </tr>\n",
              "    <tr>\n",
              "      <th>4</th>\n",
              "      <td>CALSPHERE 4A</td>\n",
              "      <td>1965-065H</td>\n",
              "      <td>2025-02-01T17:41:41.716896</td>\n",
              "      <td>13.361622</td>\n",
              "      <td>0.007095</td>\n",
              "      <td>U</td>\n",
              "      <td>1520</td>\n",
              "    </tr>\n",
              "    <tr>\n",
              "      <th>...</th>\n",
              "      <td>...</td>\n",
              "      <td>...</td>\n",
              "      <td>...</td>\n",
              "      <td>...</td>\n",
              "      <td>...</td>\n",
              "      <td>...</td>\n",
              "      <td>...</td>\n",
              "    </tr>\n",
              "    <tr>\n",
              "      <th>10862</th>\n",
              "      <td>STARLINK-32704</td>\n",
              "      <td>2025-018W</td>\n",
              "      <td>2025-02-02T06:00:02.000160</td>\n",
              "      <td>15.906580</td>\n",
              "      <td>0.000112</td>\n",
              "      <td>U</td>\n",
              "      <td>62826</td>\n",
              "    </tr>\n",
              "    <tr>\n",
              "      <th>10863</th>\n",
              "      <td>STARLINK-32838</td>\n",
              "      <td>2025-018X</td>\n",
              "      <td>2025-02-02T06:00:02.000160</td>\n",
              "      <td>15.928658</td>\n",
              "      <td>0.000140</td>\n",
              "      <td>U</td>\n",
              "      <td>62827</td>\n",
              "    </tr>\n",
              "    <tr>\n",
              "      <th>10864</th>\n",
              "      <td>STARLINK-32727</td>\n",
              "      <td>2025-018Y</td>\n",
              "      <td>2025-02-02T06:00:02.000160</td>\n",
              "      <td>15.908348</td>\n",
              "      <td>0.000108</td>\n",
              "      <td>U</td>\n",
              "      <td>62828</td>\n",
              "    </tr>\n",
              "    <tr>\n",
              "      <th>10865</th>\n",
              "      <td>NVS-02 (IRNSS-1K)</td>\n",
              "      <td>2025-020A</td>\n",
              "      <td>2025-02-01T12:18:31.094496</td>\n",
              "      <td>2.164051</td>\n",
              "      <td>0.740863</td>\n",
              "      <td>U</td>\n",
              "      <td>62850</td>\n",
              "    </tr>\n",
              "    <tr>\n",
              "      <th>10866</th>\n",
              "      <td>SPAINSAT NG I</td>\n",
              "      <td>2025-021A</td>\n",
              "      <td>2025-01-31T00:23:41.953056</td>\n",
              "      <td>1.050487</td>\n",
              "      <td>0.832423</td>\n",
              "      <td>U</td>\n",
              "      <td>62852</td>\n",
              "    </tr>\n",
              "  </tbody>\n",
              "</table>\n",
              "<p>10867 rows × 7 columns</p>\n",
              "</div>\n",
              "    <div class=\"colab-df-buttons\">\n",
              "\n",
              "  <div class=\"colab-df-container\">\n",
              "    <button class=\"colab-df-convert\" onclick=\"convertToInteractive('df-de672cf6-77e6-47f2-a225-e5647b694a36')\"\n",
              "            title=\"Convert this dataframe to an interactive table.\"\n",
              "            style=\"display:none;\">\n",
              "\n",
              "  <svg xmlns=\"http://www.w3.org/2000/svg\" height=\"24px\" viewBox=\"0 -960 960 960\">\n",
              "    <path d=\"M120-120v-720h720v720H120Zm60-500h600v-160H180v160Zm220 220h160v-160H400v160Zm0 220h160v-160H400v160ZM180-400h160v-160H180v160Zm440 0h160v-160H620v160ZM180-180h160v-160H180v160Zm440 0h160v-160H620v160Z\"/>\n",
              "  </svg>\n",
              "    </button>\n",
              "\n",
              "  <style>\n",
              "    .colab-df-container {\n",
              "      display:flex;\n",
              "      gap: 12px;\n",
              "    }\n",
              "\n",
              "    .colab-df-convert {\n",
              "      background-color: #E8F0FE;\n",
              "      border: none;\n",
              "      border-radius: 50%;\n",
              "      cursor: pointer;\n",
              "      display: none;\n",
              "      fill: #1967D2;\n",
              "      height: 32px;\n",
              "      padding: 0 0 0 0;\n",
              "      width: 32px;\n",
              "    }\n",
              "\n",
              "    .colab-df-convert:hover {\n",
              "      background-color: #E2EBFA;\n",
              "      box-shadow: 0px 1px 2px rgba(60, 64, 67, 0.3), 0px 1px 3px 1px rgba(60, 64, 67, 0.15);\n",
              "      fill: #174EA6;\n",
              "    }\n",
              "\n",
              "    .colab-df-buttons div {\n",
              "      margin-bottom: 4px;\n",
              "    }\n",
              "\n",
              "    [theme=dark] .colab-df-convert {\n",
              "      background-color: #3B4455;\n",
              "      fill: #D2E3FC;\n",
              "    }\n",
              "\n",
              "    [theme=dark] .colab-df-convert:hover {\n",
              "      background-color: #434B5C;\n",
              "      box-shadow: 0px 1px 3px 1px rgba(0, 0, 0, 0.15);\n",
              "      filter: drop-shadow(0px 1px 2px rgba(0, 0, 0, 0.3));\n",
              "      fill: #FFFFFF;\n",
              "    }\n",
              "  </style>\n",
              "\n",
              "    <script>\n",
              "      const buttonEl =\n",
              "        document.querySelector('#df-de672cf6-77e6-47f2-a225-e5647b694a36 button.colab-df-convert');\n",
              "      buttonEl.style.display =\n",
              "        google.colab.kernel.accessAllowed ? 'block' : 'none';\n",
              "\n",
              "      async function convertToInteractive(key) {\n",
              "        const element = document.querySelector('#df-de672cf6-77e6-47f2-a225-e5647b694a36');\n",
              "        const dataTable =\n",
              "          await google.colab.kernel.invokeFunction('convertToInteractive',\n",
              "                                                    [key], {});\n",
              "        if (!dataTable) return;\n",
              "\n",
              "        const docLinkHtml = 'Like what you see? Visit the ' +\n",
              "          '<a target=\"_blank\" href=https://colab.research.google.com/notebooks/data_table.ipynb>data table notebook</a>'\n",
              "          + ' to learn more about interactive tables.';\n",
              "        element.innerHTML = '';\n",
              "        dataTable['output_type'] = 'display_data';\n",
              "        await google.colab.output.renderOutput(dataTable, element);\n",
              "        const docLink = document.createElement('div');\n",
              "        docLink.innerHTML = docLinkHtml;\n",
              "        element.appendChild(docLink);\n",
              "      }\n",
              "    </script>\n",
              "  </div>\n",
              "\n",
              "\n",
              "<div id=\"df-e0d40a9d-2079-403d-8f57-221de36043be\">\n",
              "  <button class=\"colab-df-quickchart\" onclick=\"quickchart('df-e0d40a9d-2079-403d-8f57-221de36043be')\"\n",
              "            title=\"Suggest charts\"\n",
              "            style=\"display:none;\">\n",
              "\n",
              "<svg xmlns=\"http://www.w3.org/2000/svg\" height=\"24px\"viewBox=\"0 0 24 24\"\n",
              "     width=\"24px\">\n",
              "    <g>\n",
              "        <path d=\"M19 3H5c-1.1 0-2 .9-2 2v14c0 1.1.9 2 2 2h14c1.1 0 2-.9 2-2V5c0-1.1-.9-2-2-2zM9 17H7v-7h2v7zm4 0h-2V7h2v10zm4 0h-2v-4h2v4z\"/>\n",
              "    </g>\n",
              "</svg>\n",
              "  </button>\n",
              "\n",
              "<style>\n",
              "  .colab-df-quickchart {\n",
              "      --bg-color: #E8F0FE;\n",
              "      --fill-color: #1967D2;\n",
              "      --hover-bg-color: #E2EBFA;\n",
              "      --hover-fill-color: #174EA6;\n",
              "      --disabled-fill-color: #AAA;\n",
              "      --disabled-bg-color: #DDD;\n",
              "  }\n",
              "\n",
              "  [theme=dark] .colab-df-quickchart {\n",
              "      --bg-color: #3B4455;\n",
              "      --fill-color: #D2E3FC;\n",
              "      --hover-bg-color: #434B5C;\n",
              "      --hover-fill-color: #FFFFFF;\n",
              "      --disabled-bg-color: #3B4455;\n",
              "      --disabled-fill-color: #666;\n",
              "  }\n",
              "\n",
              "  .colab-df-quickchart {\n",
              "    background-color: var(--bg-color);\n",
              "    border: none;\n",
              "    border-radius: 50%;\n",
              "    cursor: pointer;\n",
              "    display: none;\n",
              "    fill: var(--fill-color);\n",
              "    height: 32px;\n",
              "    padding: 0;\n",
              "    width: 32px;\n",
              "  }\n",
              "\n",
              "  .colab-df-quickchart:hover {\n",
              "    background-color: var(--hover-bg-color);\n",
              "    box-shadow: 0 1px 2px rgba(60, 64, 67, 0.3), 0 1px 3px 1px rgba(60, 64, 67, 0.15);\n",
              "    fill: var(--button-hover-fill-color);\n",
              "  }\n",
              "\n",
              "  .colab-df-quickchart-complete:disabled,\n",
              "  .colab-df-quickchart-complete:disabled:hover {\n",
              "    background-color: var(--disabled-bg-color);\n",
              "    fill: var(--disabled-fill-color);\n",
              "    box-shadow: none;\n",
              "  }\n",
              "\n",
              "  .colab-df-spinner {\n",
              "    border: 2px solid var(--fill-color);\n",
              "    border-color: transparent;\n",
              "    border-bottom-color: var(--fill-color);\n",
              "    animation:\n",
              "      spin 1s steps(1) infinite;\n",
              "  }\n",
              "\n",
              "  @keyframes spin {\n",
              "    0% {\n",
              "      border-color: transparent;\n",
              "      border-bottom-color: var(--fill-color);\n",
              "      border-left-color: var(--fill-color);\n",
              "    }\n",
              "    20% {\n",
              "      border-color: transparent;\n",
              "      border-left-color: var(--fill-color);\n",
              "      border-top-color: var(--fill-color);\n",
              "    }\n",
              "    30% {\n",
              "      border-color: transparent;\n",
              "      border-left-color: var(--fill-color);\n",
              "      border-top-color: var(--fill-color);\n",
              "      border-right-color: var(--fill-color);\n",
              "    }\n",
              "    40% {\n",
              "      border-color: transparent;\n",
              "      border-right-color: var(--fill-color);\n",
              "      border-top-color: var(--fill-color);\n",
              "    }\n",
              "    60% {\n",
              "      border-color: transparent;\n",
              "      border-right-color: var(--fill-color);\n",
              "    }\n",
              "    80% {\n",
              "      border-color: transparent;\n",
              "      border-right-color: var(--fill-color);\n",
              "      border-bottom-color: var(--fill-color);\n",
              "    }\n",
              "    90% {\n",
              "      border-color: transparent;\n",
              "      border-bottom-color: var(--fill-color);\n",
              "    }\n",
              "  }\n",
              "</style>\n",
              "\n",
              "  <script>\n",
              "    async function quickchart(key) {\n",
              "      const quickchartButtonEl =\n",
              "        document.querySelector('#' + key + ' button');\n",
              "      quickchartButtonEl.disabled = true;  // To prevent multiple clicks.\n",
              "      quickchartButtonEl.classList.add('colab-df-spinner');\n",
              "      try {\n",
              "        const charts = await google.colab.kernel.invokeFunction(\n",
              "            'suggestCharts', [key], {});\n",
              "      } catch (error) {\n",
              "        console.error('Error during call to suggestCharts:', error);\n",
              "      }\n",
              "      quickchartButtonEl.classList.remove('colab-df-spinner');\n",
              "      quickchartButtonEl.classList.add('colab-df-quickchart-complete');\n",
              "    }\n",
              "    (() => {\n",
              "      let quickchartButtonEl =\n",
              "        document.querySelector('#df-e0d40a9d-2079-403d-8f57-221de36043be button');\n",
              "      quickchartButtonEl.style.display =\n",
              "        google.colab.kernel.accessAllowed ? 'block' : 'none';\n",
              "    })();\n",
              "  </script>\n",
              "</div>\n",
              "\n",
              "  <div id=\"id_6db6b4cf-805f-4a6d-a300-e37001d9d025\">\n",
              "    <style>\n",
              "      .colab-df-generate {\n",
              "        background-color: #E8F0FE;\n",
              "        border: none;\n",
              "        border-radius: 50%;\n",
              "        cursor: pointer;\n",
              "        display: none;\n",
              "        fill: #1967D2;\n",
              "        height: 32px;\n",
              "        padding: 0 0 0 0;\n",
              "        width: 32px;\n",
              "      }\n",
              "\n",
              "      .colab-df-generate:hover {\n",
              "        background-color: #E2EBFA;\n",
              "        box-shadow: 0px 1px 2px rgba(60, 64, 67, 0.3), 0px 1px 3px 1px rgba(60, 64, 67, 0.15);\n",
              "        fill: #174EA6;\n",
              "      }\n",
              "\n",
              "      [theme=dark] .colab-df-generate {\n",
              "        background-color: #3B4455;\n",
              "        fill: #D2E3FC;\n",
              "      }\n",
              "\n",
              "      [theme=dark] .colab-df-generate:hover {\n",
              "        background-color: #434B5C;\n",
              "        box-shadow: 0px 1px 3px 1px rgba(0, 0, 0, 0.15);\n",
              "        filter: drop-shadow(0px 1px 2px rgba(0, 0, 0, 0.3));\n",
              "        fill: #FFFFFF;\n",
              "      }\n",
              "    </style>\n",
              "    <button class=\"colab-df-generate\" onclick=\"generateWithVariable('satellites_df')\"\n",
              "            title=\"Generate code using this dataframe.\"\n",
              "            style=\"display:none;\">\n",
              "\n",
              "  <svg xmlns=\"http://www.w3.org/2000/svg\" height=\"24px\"viewBox=\"0 0 24 24\"\n",
              "       width=\"24px\">\n",
              "    <path d=\"M7,19H8.4L18.45,9,17,7.55,7,17.6ZM5,21V16.75L18.45,3.32a2,2,0,0,1,2.83,0l1.4,1.43a1.91,1.91,0,0,1,.58,1.4,1.91,1.91,0,0,1-.58,1.4L9.25,21ZM18.45,9,17,7.55Zm-12,3A5.31,5.31,0,0,0,4.9,8.1,5.31,5.31,0,0,0,1,6.5,5.31,5.31,0,0,0,4.9,4.9,5.31,5.31,0,0,0,6.5,1,5.31,5.31,0,0,0,8.1,4.9,5.31,5.31,0,0,0,12,6.5,5.46,5.46,0,0,0,6.5,12Z\"/>\n",
              "  </svg>\n",
              "    </button>\n",
              "    <script>\n",
              "      (() => {\n",
              "      const buttonEl =\n",
              "        document.querySelector('#id_6db6b4cf-805f-4a6d-a300-e37001d9d025 button.colab-df-generate');\n",
              "      buttonEl.style.display =\n",
              "        google.colab.kernel.accessAllowed ? 'block' : 'none';\n",
              "\n",
              "      buttonEl.onclick = () => {\n",
              "        google.colab.notebook.generateWithVariable('satellites_df');\n",
              "      }\n",
              "      })();\n",
              "    </script>\n",
              "  </div>\n",
              "\n",
              "    </div>\n",
              "  </div>\n"
            ],
            "application/vnd.google.colaboratory.intrinsic+json": {
              "type": "dataframe",
              "variable_name": "satellites_df",
              "summary": "{\n  \"name\": \"satellites_df\",\n  \"rows\": 10867,\n  \"fields\": [\n    {\n      \"column\": \"OBJECT_NAME\",\n      \"properties\": {\n        \"dtype\": \"string\",\n        \"num_unique_values\": 10866,\n        \"samples\": [\n          \"STARLINK-31342\",\n          \"FLORIPASAT-1\",\n          \"ONEWEB-0116\"\n        ],\n        \"semantic_type\": \"\",\n        \"description\": \"\"\n      }\n    },\n    {\n      \"column\": \"OBJECT_ID\",\n      \"properties\": {\n        \"dtype\": \"string\",\n        \"num_unique_values\": 10867,\n        \"samples\": [\n          \"2024-044R\",\n          \"2019-093G\",\n          \"2021-025E\"\n        ],\n        \"semantic_type\": \"\",\n        \"description\": \"\"\n      }\n    },\n    {\n      \"column\": \"EPOCH\",\n      \"properties\": {\n        \"dtype\": \"object\",\n        \"num_unique_values\": 10337,\n        \"samples\": [\n          \"2025-02-02T01:08:47.004864\",\n          \"2025-02-01T20:14:29.572512\",\n          \"2025-02-02T03:27:45.375552\"\n        ],\n        \"semantic_type\": \"\",\n        \"description\": \"\"\n      }\n    },\n    {\n      \"column\": \"MEAN_MOTION\",\n      \"properties\": {\n        \"dtype\": \"number\",\n        \"std\": 3.6200898909683374,\n        \"min\": 0.06955746,\n        \"max\": 16.43844684,\n        \"num_unique_values\": 10745,\n        \"samples\": [\n          15.06399405,\n          15.06389189,\n          15.30188675\n        ],\n        \"semantic_type\": \"\",\n        \"description\": \"\"\n      }\n    },\n    {\n      \"column\": \"ECCENTRICITY\",\n      \"properties\": {\n        \"dtype\": \"number\",\n        \"std\": 0.050731122002207946,\n        \"min\": 3.2e-06,\n        \"max\": 0.96509,\n        \"num_unique_values\": 4790,\n        \"samples\": [\n          6.25e-05,\n          0.0011637,\n          0.0001455\n        ],\n        \"semantic_type\": \"\",\n        \"description\": \"\"\n      }\n    },\n    {\n      \"column\": \"CLASSIFICATION_TYPE\",\n      \"properties\": {\n        \"dtype\": \"category\",\n        \"num_unique_values\": 1,\n        \"samples\": [\n          \"U\"\n        ],\n        \"semantic_type\": \"\",\n        \"description\": \"\"\n      }\n    },\n    {\n      \"column\": \"NORAD_CAT_ID\",\n      \"properties\": {\n        \"dtype\": \"number\",\n        \"std\": 7856,\n        \"min\": 900,\n        \"max\": 62852,\n        \"num_unique_values\": 10867,\n        \"samples\": [\n          59167\n        ],\n        \"semantic_type\": \"\",\n        \"description\": \"\"\n      }\n    }\n  ]\n}"
            }
          },
          "metadata": {},
          "execution_count": 141
        }
      ]
    },
    {
      "cell_type": "code",
      "source": [
        "# Conta i valori nulli per colonna\n",
        "print(satellites_df.isnull().sum())\n"
      ],
      "metadata": {
        "colab": {
          "base_uri": "https://localhost:8080/"
        },
        "id": "XzjztlndPeb5",
        "outputId": "de55a7ec-5a6c-4903-946a-bfbb14f0fb76"
      },
      "execution_count": 142,
      "outputs": [
        {
          "output_type": "stream",
          "name": "stdout",
          "text": [
            "OBJECT_NAME            0\n",
            "OBJECT_ID              0\n",
            "EPOCH                  0\n",
            "MEAN_MOTION            0\n",
            "ECCENTRICITY           0\n",
            "CLASSIFICATION_TYPE    0\n",
            "NORAD_CAT_ID           0\n",
            "dtype: int64\n"
          ]
        }
      ]
    },
    {
      "cell_type": "markdown",
      "source": [
        "Utilizzo il metodo value_counts() per verificare se ci sono duplicati nella colonna OBJECT_NAME."
      ],
      "metadata": {
        "id": "I3Y83G78UiiE"
      }
    },
    {
      "cell_type": "code",
      "source": [
        "# Conta i valori e raggruppa\n",
        "grouped_values = satellites_df['OBJECT_NAME'].value_counts()\n",
        "print(grouped_values)\n"
      ],
      "metadata": {
        "colab": {
          "base_uri": "https://localhost:8080/"
        },
        "id": "7JdaajU7PEeO",
        "outputId": "a4be18a0-e8e5-4152-f56f-43811cfde2f8"
      },
      "execution_count": 143,
      "outputs": [
        {
          "output_type": "stream",
          "name": "stdout",
          "text": [
            "OBJECT_NAME\n",
            "ELECTRON KICK STAGE R/B    2\n",
            "CALSPHERE 1                1\n",
            "YAOGAN-39 01B              1\n",
            "STARLINK-30341             1\n",
            "STARLINK-30300             1\n",
            "                          ..\n",
            "STARLINK-3253              1\n",
            "STARLINK-3180              1\n",
            "STARLINK-3177              1\n",
            "STARLINK-3172              1\n",
            "SPAINSAT NG I              1\n",
            "Name: count, Length: 10866, dtype: int64\n"
          ]
        }
      ]
    },
    {
      "cell_type": "markdown",
      "source": [
        "Il valore più ripetuto è ELECTRON KICK STAGE R/B, che appare 2 volte.\n",
        "Procedo all'analisi del duplicato."
      ],
      "metadata": {
        "id": "-s2DDSvQUlEL"
      }
    },
    {
      "cell_type": "code",
      "source": [
        "duplicates = satellites_df[satellites_df.duplicated(subset=['OBJECT_NAME'], keep=False)]\n",
        "print(duplicates)\n"
      ],
      "metadata": {
        "colab": {
          "base_uri": "https://localhost:8080/"
        },
        "id": "GaGoXw_sUz_J",
        "outputId": "74f9be81-d9f3-441a-ec01-546b186d2702"
      },
      "execution_count": 144,
      "outputs": [
        {
          "output_type": "stream",
          "name": "stdout",
          "text": [
            "                  OBJECT_NAME  OBJECT_ID                       EPOCH  \\\n",
            "6011  ELECTRON KICK STAGE R/B  2023-035A  2025-02-01T21:13:50.281536   \n",
            "9233  ELECTRON KICK STAGE R/B  2024-114G  2025-02-02T02:02:34.183104   \n",
            "\n",
            "      MEAN_MOTION  ECCENTRICITY CLASSIFICATION_TYPE  NORAD_CAT_ID  \n",
            "6011    15.017165      0.000618                   U         55908  \n",
            "9233    15.045091      0.007833                   U         60085  \n"
          ]
        }
      ]
    },
    {
      "cell_type": "markdown",
      "source": [
        "Noto che si tratta di due riferimenti diversi, pur con lo stesso nome. Questo e' deducibile dalle colonne univoche 'OBJECT_ID' e 'NORAD_CAT_ID', dunque mantengo entrambi."
      ],
      "metadata": {
        "id": "QPh5JoSwVYV9"
      }
    },
    {
      "cell_type": "markdown",
      "source": [
        "Per sicurezza procedo a controllare i valori univoci di NORAD_CAT_ID."
      ],
      "metadata": {
        "id": "eZ8oqnsFWR6_"
      }
    },
    {
      "cell_type": "code",
      "source": [
        "# controllo i valori univoci della colonna NORAD_CAT_ID\n",
        "unique_norad_ids = satellites_df['NORAD_CAT_ID'].nunique()\n",
        "print(f\"Numero di valori univoci in NORAD_CAT_ID: {unique_norad_ids}\")\n"
      ],
      "metadata": {
        "colab": {
          "base_uri": "https://localhost:8080/"
        },
        "id": "AMCx85jRV1lg",
        "outputId": "378f4e21-d202-4011-97cf-05c526a054a0"
      },
      "execution_count": 145,
      "outputs": [
        {
          "output_type": "stream",
          "name": "stdout",
          "text": [
            "Numero di valori univoci in NORAD_CAT_ID: 10867\n"
          ]
        }
      ]
    },
    {
      "cell_type": "markdown",
      "source": [
        "Il dataset è composto da 10867 che con la precedente analisi si sono rivelati tutti elementi univoci."
      ],
      "metadata": {
        "id": "0xt5wYlaWHPj"
      }
    },
    {
      "cell_type": "markdown",
      "source": [
        "Per analizzare il numero di satelliti lanciati per anno, utilizzo la colonna OBJECT_ID, che è formattata come anno-numero_lancio (ad esempio, 2025-001A).\n",
        "Da questa colonna, estraggo i primi quattro caratteri, che rappresentano l'anno di lancio, e creo una nuova colonna denominata Year."
      ],
      "metadata": {
        "id": "w_-XLLu8W0k5"
      }
    },
    {
      "cell_type": "code",
      "source": [
        "# Estrai l'anno dai primi 4 caratteri di OBJECT_ID\n",
        "satellites_df['Year'] = satellites_df['OBJECT_ID'].str[:4]\n",
        "\n",
        "# Controlla se la nuova colonna è stata aggiunta correttamente\n",
        "print(satellites_df[['OBJECT_ID', 'Year']].head())\n"
      ],
      "metadata": {
        "colab": {
          "base_uri": "https://localhost:8080/"
        },
        "id": "lMbfNMN9Sc8s",
        "outputId": "468d6f8f-3a87-4b44-dc75-afb0e4a4aef3"
      },
      "execution_count": 146,
      "outputs": [
        {
          "output_type": "stream",
          "name": "stdout",
          "text": [
            "   OBJECT_ID  Year\n",
            "0  1964-063C  1964\n",
            "1  1964-063E  1964\n",
            "2  1965-034C  1965\n",
            "3  1965-065E  1965\n",
            "4  1965-065H  1965\n"
          ]
        }
      ]
    },
    {
      "cell_type": "markdown",
      "source": [
        "Questa colonna mi ha permesso di raggruppare i dati in base all'anno e di procedere con l'analisi temporale."
      ],
      "metadata": {
        "id": "WkudiOhgXFZ2"
      }
    },
    {
      "cell_type": "code",
      "source": [
        "print(satellites_df)\n"
      ],
      "metadata": {
        "colab": {
          "base_uri": "https://localhost:8080/"
        },
        "id": "rQmI0U5fSrkB",
        "outputId": "a7a64189-e32b-416f-c21c-a63552bebd3b"
      },
      "execution_count": 147,
      "outputs": [
        {
          "output_type": "stream",
          "name": "stdout",
          "text": [
            "             OBJECT_NAME  OBJECT_ID                       EPOCH  MEAN_MOTION  \\\n",
            "0            CALSPHERE 1  1964-063C  2025-02-02T02:18:47.383200    13.757874   \n",
            "1            CALSPHERE 2  1964-063E  2025-02-01T13:27:56.255328    13.528457   \n",
            "2                  LCS 1  1965-034C  2025-02-01T17:24:24.557472     9.893078   \n",
            "3              TEMPSAT 1  1965-065E  2025-02-01T12:50:46.729248    13.335529   \n",
            "4           CALSPHERE 4A  1965-065H  2025-02-01T17:41:41.716896    13.361622   \n",
            "...                  ...        ...                         ...          ...   \n",
            "10862     STARLINK-32704  2025-018W  2025-02-02T06:00:02.000160    15.906580   \n",
            "10863     STARLINK-32838  2025-018X  2025-02-02T06:00:02.000160    15.928658   \n",
            "10864     STARLINK-32727  2025-018Y  2025-02-02T06:00:02.000160    15.908348   \n",
            "10865  NVS-02 (IRNSS-1K)  2025-020A  2025-02-01T12:18:31.094496     2.164051   \n",
            "10866      SPAINSAT NG I  2025-021A  2025-01-31T00:23:41.953056     1.050487   \n",
            "\n",
            "       ECCENTRICITY CLASSIFICATION_TYPE  NORAD_CAT_ID  Year  \n",
            "0          0.002545                   U           900  1964  \n",
            "1          0.001680                   U           902  1964  \n",
            "2          0.001057                   U          1361  1965  \n",
            "3          0.006868                   U          1512  1965  \n",
            "4          0.007095                   U          1520  1965  \n",
            "...             ...                 ...           ...   ...  \n",
            "10862      0.000112                   U         62826  2025  \n",
            "10863      0.000140                   U         62827  2025  \n",
            "10864      0.000108                   U         62828  2025  \n",
            "10865      0.740863                   U         62850  2025  \n",
            "10866      0.832423                   U         62852  2025  \n",
            "\n",
            "[10867 rows x 8 columns]\n"
          ]
        }
      ]
    },
    {
      "cell_type": "markdown",
      "source": [],
      "metadata": {
        "id": "SggGX86LX17g"
      }
    },
    {
      "cell_type": "markdown",
      "source": [
        "Dopo aver verificato l'integrità del dataset, posso procedere con l'esplorazione dei dati.\n",
        "\n"
      ],
      "metadata": {
        "id": "FYsqhvyaQNgq"
      }
    },
    {
      "cell_type": "markdown",
      "source": [
        "## Analisi Esplorativa dei Dati (EDA) e Visualizzazione"
      ],
      "metadata": {
        "id": "OKMtuKVcX03g"
      }
    },
    {
      "cell_type": "markdown",
      "source": [
        "Per procedere con l'analisi dei numero di satelliti lanciati ogni anno, analizzo la colonna Year."
      ],
      "metadata": {
        "id": "3GRdvOLFZALX"
      }
    },
    {
      "cell_type": "code",
      "source": [
        "# raggruppo per anno e conto il numero di satelliti\n",
        "satellites_per_year = satellites_df.groupby('Year').size()\n",
        "\n",
        "# risultato\n",
        "print(satellites_per_year)\n"
      ],
      "metadata": {
        "colab": {
          "base_uri": "https://localhost:8080/"
        },
        "id": "JOJ2elnBS20m",
        "outputId": "f24a25a5-efa9-4415-cb51-87d68ed01716"
      },
      "execution_count": 148,
      "outputs": [
        {
          "output_type": "stream",
          "name": "stdout",
          "text": [
            "Year\n",
            "1964       2\n",
            "1965       3\n",
            "1967       5\n",
            "1971       2\n",
            "1974       1\n",
            "1975       1\n",
            "1976       1\n",
            "1982       1\n",
            "1983       1\n",
            "1984       1\n",
            "1986       1\n",
            "1988       1\n",
            "1989       3\n",
            "1990       4\n",
            "1991       2\n",
            "1992       1\n",
            "1993       6\n",
            "1994       2\n",
            "1995       3\n",
            "1996       6\n",
            "1997       6\n",
            "1998      18\n",
            "1999      10\n",
            "2000      16\n",
            "2001      15\n",
            "2002      15\n",
            "2003      27\n",
            "2004      26\n",
            "2005      24\n",
            "2006      26\n",
            "2007      45\n",
            "2008      43\n",
            "2009      54\n",
            "2010      61\n",
            "2011      64\n",
            "2012      68\n",
            "2013     104\n",
            "2014     116\n",
            "2015     105\n",
            "2016      91\n",
            "2017     142\n",
            "2018     221\n",
            "2019     181\n",
            "2020     762\n",
            "2021    1260\n",
            "2022    1948\n",
            "2023    2585\n",
            "2024    2601\n",
            "2025     186\n",
            "dtype: int64\n"
          ]
        }
      ]
    },
    {
      "cell_type": "code",
      "source": [
        "# raggruppo per anno e conta il numero di satelliti\n",
        "satellites_per_year = satellites_df.groupby('Year').size()\n",
        "\n",
        "# creo il grafico della crescita dei satelliti per anno\n",
        "plt.figure(figsize=(12, 6))\n",
        "plt.plot(satellites_per_year.index, satellites_per_year.values, marker='o', linestyle='-', color='b')\n",
        "\n",
        "plt.title('Numero di satelliti lanciati per anno', fontsize=14)\n",
        "plt.xlabel('Anno', fontsize=12)\n",
        "plt.ylabel('Numero di satelliti', fontsize=12)\n",
        "plt.grid(True)\n",
        "plt.xticks(rotation=45)  # Ruota le etichette dell'asse X\n",
        "\n",
        "# grafico\n",
        "plt.show()"
      ],
      "metadata": {
        "colab": {
          "base_uri": "https://localhost:8080/",
          "height": 590
        },
        "id": "-97JrYnVMBSW",
        "outputId": "e0ea14f0-6cac-4d10-8638-901508579c80"
      },
      "execution_count": 149,
      "outputs": [
        {
          "output_type": "display_data",
          "data": {
            "text/plain": [
              "<Figure size 1200x600 with 1 Axes>"
            ],
            "image/png": "[encoded data removed]"
          },
          "metadata": {}
        }
      ]
    },
    {
      "cell_type": "markdown",
      "source": [
        "Si può notare un incremento di satelliti a partire dal 2019."
      ],
      "metadata": {
        "id": "UpnG-hGHZdZw"
      }
    },
    {
      "cell_type": "markdown",
      "source": [
        "Analizzo la classificazione dei satelliti come \"classificati\" o \"non classificati\""
      ],
      "metadata": {
        "id": "-bPUGidNZsG7"
      }
    },
    {
      "cell_type": "code",
      "source": [
        "# confronto dati per classificazione\n",
        "# conto i satelliti per classificazione\n",
        "classification_counts = satellites_df['CLASSIFICATION_TYPE'].value_counts()\n",
        "\n",
        "# risultati\n",
        "print(classification_counts)\n"
      ],
      "metadata": {
        "colab": {
          "base_uri": "https://localhost:8080/"
        },
        "id": "qh38sA2xM2oW",
        "outputId": "a19d08a7-da2e-4dac-9a72-c05f6f73662e"
      },
      "execution_count": 150,
      "outputs": [
        {
          "output_type": "stream",
          "name": "stdout",
          "text": [
            "CLASSIFICATION_TYPE\n",
            "U    10867\n",
            "Name: count, dtype: int64\n"
          ]
        }
      ]
    },
    {
      "cell_type": "code",
      "source": [
        "# filtro i satelliti classificati\n",
        "classified_satellites = satellites_df[satellites_df['CLASSIFICATION_TYPE'] == 'C']\n",
        "\n",
        "# filtro i satelliti non classificati\n",
        "unclassified_satellites = satellites_df[satellites_df['CLASSIFICATION_TYPE'] == 'U']\n",
        "\n",
        "# mostro il numero di satelliti classificati e non classificati\n",
        "print(f\"Classificati: {classified_satellites.shape[0]}\")\n",
        "print(f\"Non classificati: {unclassified_satellites.shape[0]}\")\n"
      ],
      "metadata": {
        "colab": {
          "base_uri": "https://localhost:8080/"
        },
        "id": "-_GtsF3GM_jv",
        "outputId": "e3b8b120-7e68-45c3-e26e-a50d2a10125b"
      },
      "execution_count": 151,
      "outputs": [
        {
          "output_type": "stream",
          "name": "stdout",
          "text": [
            "Classificati: 0\n",
            "Non classificati: 10867\n"
          ]
        }
      ]
    },
    {
      "cell_type": "code",
      "source": [
        "# verifico i valori unici in CLASSIFICATION_TYPE\n",
        "print(satellites_df['CLASSIFICATION_TYPE'].unique())\n"
      ],
      "metadata": {
        "colab": {
          "base_uri": "https://localhost:8080/"
        },
        "id": "5sMwXNePNHR4",
        "outputId": "2bfb6ad8-ecf2-4d31-ba47-0cd1684b110b"
      },
      "execution_count": 152,
      "outputs": [
        {
          "output_type": "stream",
          "name": "stdout",
          "text": [
            "['U']\n"
          ]
        }
      ]
    },
    {
      "cell_type": "code",
      "source": [
        "classification_counts = satellites_df['CLASSIFICATION_TYPE'].value_counts()\n",
        "\n",
        "# creo il grafico a torta\n",
        "plt.figure(figsize=(8, 8))\n",
        "classification_counts.plot.pie(autopct='%1.1f%%', startangle=90, colors=plt.cm.Paired.colors)\n",
        "plt.title('Distribuzione di CLASSIFICATION_TYPE')\n",
        "plt.ylabel('')  # rimozione 'etichetta asse y per renderlo più pulito\n",
        "plt.show()\n"
      ],
      "metadata": {
        "colab": {
          "base_uri": "https://localhost:8080/",
          "height": 675
        },
        "id": "z1TrQi3Qa1k-",
        "outputId": "200e3b48-654c-49b9-9779-1805c20aa6ef"
      },
      "execution_count": 153,
      "outputs": [
        {
          "output_type": "display_data",
          "data": {
            "text/plain": [
              "<Figure size 800x800 with 1 Axes>"
            ],
            "image/png": "[encoded data removed]"
          },
          "metadata": {}
        }
      ]
    },
    {
      "cell_type": "markdown",
      "source": [
        "Dopo aver analizzato la colonna CLASSIFICATION_TYPE, è emerso che tutti i satelliti del dataset appartengono alla categoria \"Unclassified\" (non classificati). Questo significa che i dati inclusi nel dataset sono esclusivamente pubblici e non comprendono informazioni su satelliti militari o segreti, i quali rientrerebbero in altre categorie di classificazione come \"Classified\".\n",
        "\n",
        "L'analisi si concentra quindi su satelliti che svolgono principalmente ruoli commerciali, scientifici, di comunicazione, o altre funzioni pubbliche, dunque il dataset è adatto a uno studio su larga scala della crescita e delle tendenze nell'industria spaziale civile e commerciale.\n"
      ],
      "metadata": {
        "id": "PjLDSfVPZ4go"
      }
    },
    {
      "cell_type": "markdown",
      "source": [
        "Passo ora all'analisi dei satelliti in base al tipo di orbita. Questo passaggio è fondamentale per comprendere la distribuzione dei satelliti nelle diverse fasce orbitali (LEO, MEO, GEO e altro) e per identificare eventuali tendenze o concentrazioni in specifiche orbite. Attraverso questa analisi, sarà possibile ottenere informazioni chiave sulla funzione e l'utilizzo dei satelliti nelle varie orbite."
      ],
      "metadata": {
        "id": "v4RS9mgmbXJ7"
      }
    },
    {
      "cell_type": "code",
      "source": [
        "# Classificazione dei satelliti per tipo di orbita\n",
        "def classify_orbit(mean_motion):\n",
        "    if mean_motion > 11.25:\n",
        "        return 'LEO'\n",
        "    elif 1.5 < mean_motion <= 11.25:\n",
        "        return 'MEO'\n",
        "    elif 0.95 <= mean_motion <= 1.05:\n",
        "        return 'GEO'\n",
        "    else:\n",
        "        return 'Altro'\n",
        "\n",
        "# applico la funzione al dataset\n",
        "satellites_df['Orbit_Type'] = satellites_df['MEAN_MOTION'].apply(classify_orbit)\n",
        "\n",
        "# risultati\n",
        "print(satellites_df[['MEAN_MOTION', 'Orbit_Type']].head())\n"
      ],
      "metadata": {
        "colab": {
          "base_uri": "https://localhost:8080/"
        },
        "id": "qGcCBZv_Nxhb",
        "outputId": "e233c8b3-a563-4896-bd74-ce36c00aa746"
      },
      "execution_count": 154,
      "outputs": [
        {
          "output_type": "stream",
          "name": "stdout",
          "text": [
            "   MEAN_MOTION Orbit_Type\n",
            "0    13.757874        LEO\n",
            "1    13.528457        LEO\n",
            "2     9.893078        MEO\n",
            "3    13.335529        LEO\n",
            "4    13.361622        LEO\n"
          ]
        }
      ]
    },
    {
      "cell_type": "code",
      "source": [
        "# conto i satelliti per tipo di orbita\n",
        "orbit_counts = satellites_df['Orbit_Type'].value_counts()\n",
        "\n",
        "# risultati\n",
        "print(orbit_counts)\n"
      ],
      "metadata": {
        "colab": {
          "base_uri": "https://localhost:8080/"
        },
        "id": "fU9qxBNmNzt_",
        "outputId": "1872f10b-572a-4d43-e6b4-5ccd5a3ba10f"
      },
      "execution_count": 155,
      "outputs": [
        {
          "output_type": "stream",
          "name": "stdout",
          "text": [
            "Orbit_Type\n",
            "LEO      10065\n",
            "GEO        582\n",
            "MEO        193\n",
            "Altro       27\n",
            "Name: count, dtype: int64\n"
          ]
        }
      ]
    },
    {
      "cell_type": "code",
      "source": [
        "# grafico a barre\n",
        "orbit_counts.plot(kind='bar', figsize=(10, 6), color='skyblue')\n",
        "plt.title('Distribuzione dei satelliti per tipo di orbita')\n",
        "plt.xlabel('Tipo di orbita')\n",
        "plt.ylabel('Numero di satelliti')\n",
        "plt.grid(axis='y')\n",
        "plt.show()\n"
      ],
      "metadata": {
        "colab": {
          "base_uri": "https://localhost:8080/",
          "height": 583
        },
        "id": "ZUC8QJrdN3gX",
        "outputId": "d8236904-c60d-4f17-dc85-7d6f51de7c1f"
      },
      "execution_count": 156,
      "outputs": [
        {
          "output_type": "display_data",
          "data": {
            "text/plain": [
              "<Figure size 1000x600 with 1 Axes>"
            ],
            "image/png": "[encoded data removed]"
          },
          "metadata": {}
        }
      ]
    },
    {
      "cell_type": "markdown",
      "source": [
        "Dal grafico emerge che la maggior parte dei satelliti orbitali appartiene alla categoria LEO (Low Earth Orbit), mentre un numero significativamente inferiore è presente nelle categorie GEO (Geostationary Earth Orbit), MEO (Medium Earth Orbit) e \"Altro\" (orbite non classificate o non standard)."
      ],
      "metadata": {
        "id": "EHqW7Q9XbxAm"
      }
    },
    {
      "cell_type": "code",
      "source": [
        "orbit_per_year = satellites_df.groupby(['Year', 'Orbit_Type']).size().unstack()\n",
        "\n",
        "# Grafico dei lanci per tipo di orbita negli anni\n",
        "orbit_per_year.plot(kind='line', figsize=(12, 6))\n",
        "plt.title('Numero di satelliti lanciati per tipo di orbita (annuale)')\n",
        "plt.xlabel('Anno')\n",
        "plt.ylabel('Numero di satelliti')\n",
        "plt.grid(True)\n",
        "plt.show()\n"
      ],
      "metadata": {
        "colab": {
          "base_uri": "https://localhost:8080/",
          "height": 564
        },
        "id": "Ym2hn62DN6G2",
        "outputId": "6ea23d1c-2f32-41f0-874d-ff6a0b295003"
      },
      "execution_count": 157,
      "outputs": [
        {
          "output_type": "display_data",
          "data": {
            "text/plain": [
              "<Figure size 1200x600 with 1 Axes>"
            ],
            "image/png": "[encoded data removed]"
          },
          "metadata": {}
        }
      ]
    },
    {
      "cell_type": "markdown",
      "source": [
        "Dal grafico risulta evidente che negli ultimi anni il numero di satelliti lanciati nella fascia LEO (Low Earth Orbit) ha subito un rapido aumento, raggiungendo un picco significativo. Le altre orbite, come GEO (Geostationary Earth Orbit) e MEO (Medium Earth Orbit), mostrano una crescita molto più lenta e costante, mentre la categoria \"Altro\" rimane marginale."
      ],
      "metadata": {
        "id": "aSlgMzQZcBaW"
      }
    },
    {
      "cell_type": "markdown",
      "source": [
        "## Conclusioni"
      ],
      "metadata": {
        "id": "I4o6hHbXcXrC"
      }
    },
    {
      "cell_type": "markdown",
      "source": [
        "L'obiettivo di questo progetto era analizzare i satelliti orbitali per identificare le principali tendenze e comprendere la distribuzione dei satelliti per tipologia di orbita, anno di lancio e classificazione. Per raggiungere questo scopo, è stato utilizzato un dataset pubblico contenente informazioni esclusivamente su satelliti non classificati.\n",
        "\n",
        "Dall'analisi dei dati, è emerso che il numero di satelliti lanciati annualmente ha subito una crescita esponenziale negli ultimi anni, con un picco significativo dopo il 2019. Questo aumento è fortemente legato allo sviluppo di costellazioni satellitari commerciali, come Starlink di SpaceX e Kuiper di Amazon, progettate per fornire connessioni internet globali e migliorare l'accesso digitale in aree remote. La distribuzione delle orbite mostra una netta predominanza di satelliti in orbita LEO (Low Earth Orbit), che rappresentano oltre il 90% del totale. Questa preferenza riflette le caratteristiche vantaggiose delle orbite LEO, tra cui costi di lancio più bassi, tempi di comunicazione più rapidi e applicazioni versatili, come l'osservazione terrestre e la connettività globale.\n",
        "\n",
        "Le orbite GEO (Geostationary Earth Orbit) e MEO (Medium Earth Orbit), invece, hanno una presenza significativamente inferiore. Queste orbite sono generalmente utilizzate per applicazioni specifiche, come la trasmissione televisiva o i sistemi di navigazione globale, e richiedono costi operativi maggiori. La categoria \"Altro\", benché marginale, include satelliti con orbite particolari, ma la mancanza di dettagli aggiuntivi nel dataset non ha permesso di approfondire ulteriormente la loro analisi.\n",
        "\n",
        "Dal punto di vista della classificazione, è stato confermato che il dataset contiene esclusivamente satelliti non classificati, indicati con il tipo \"Unclassified\". Questo implica che l'analisi si basa su dati accessibili al pubblico e non include informazioni relative a satelliti governativi o militari, che rappresentano una parte significativa ma riservata del panorama spaziale globale. Questo aspetto, se da un lato garantisce trasparenza e utilizzo dei dati per scopi commerciali o accademici, dall'altro limita la possibilità di analisi più dettagliate su aspetti strategici e di sicurezza.\n",
        "\n",
        "Un elemento importante del progetto è stato il processo di preparazione dei dati. Durante l'analisi preliminare, è stato verificato che il dataset non contenesse valori nulli o duplicati significativi. Questo ha permesso di lavorare su dati completi e affidabili senza necessità di interventi correttivi. Inoltre, sono state create nuove colonne per facilitare l'analisi, come l'estrazione dell'anno di lancio dalla colonna OBJECT_ID, che si è rivelata fondamentale per analizzare l'andamento temporale del numero di satelliti lanciati.\n",
        "\n",
        "Nonostante il valore informativo del dataset, alcune limitazioni sono emerse durante il progetto. La presenza esclusiva di satelliti non classificati limita la possibilità di analisi globali complete, che richiederebbero l'inclusione di satelliti militari o governativi. Inoltre, alcune categorie di orbite, come \"Altro\", non hanno potuto essere analizzate in dettaglio a causa della scarsità di informazioni.\n",
        "\n",
        "Guardando al futuro, l'esplosione del numero di satelliti in orbita, trainata dall'industria privata, presenta importanti implicazioni commerciali e sociali. Il mercato spaziale sta rapidamente evolvendo, con investimenti significativi in tecnologie satellitari e piattaforme di lancio. Tuttavia, questo rapido aumento solleva anche preoccupazioni sulla gestione del traffico spaziale, il rischio di collisioni e l'impatto ambientale dei detriti spaziali. In un contesto di crescente competizione globale, la cooperazione internazionale e lo sviluppo di politiche sostenibili saranno fondamentali per garantire un utilizzo responsabile dello spazio.\n"
      ],
      "metadata": {
        "id": "v5PMO_3acaPn"
      }
    }
  ]
}